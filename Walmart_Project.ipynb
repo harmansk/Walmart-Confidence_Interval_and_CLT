{
 "cells": [
  {
   "cell_type": "markdown",
   "id": "ab2d2980",
   "metadata": {},
   "source": [
    "# Business Problem"
   ]
  },
  {
   "cell_type": "markdown",
   "id": "c298c758",
   "metadata": {},
   "source": [
    "The Management team at Walmart Inc. wants to analyze the customer purchase behavior (specifically, purchase amount) against the customer’s gender and the various other factors to help the business make better decisions. They want to understand if the spending habits differ between male and female customers: Do women spend more on Black Friday than men? (Assume 50 million customers are male and 50 million are female)."
   ]
  },
  {
   "cell_type": "markdown",
   "id": "51cf6dde",
   "metadata": {},
   "source": [
    "# Dataset Fields Decription"
   ]
  },
  {
   "cell_type": "markdown",
   "id": "0d8745b4",
   "metadata": {},
   "source": [
    "- User_ID               :\tUser ID\n",
    "- Product_ID            :\tProduct ID\n",
    "- Gender                :\tSex of User\n",
    "- Age                   :\tAge in bins\n",
    "- Occupation            :\tOccupation(Masked)\n",
    "- City_Category         :\tCategory of the City (A,B,C)\n",
    "- StayInCurrentCityYears:\tNumber of years stay in current city\n",
    "- Marital_Status        :\tMarital Status\n",
    "- ProductCategory       :\tProduct Category (Masked)\n",
    "- Purchase              :\tPurchase Amount"
   ]
  },
  {
   "cell_type": "code",
   "execution_count": 1,
   "id": "5af77494",
   "metadata": {},
   "outputs": [],
   "source": [
    "import pandas as pd\n",
    "import numpy as np"
   ]
  },
  {
   "cell_type": "code",
   "execution_count": 2,
   "id": "5b03a3ce",
   "metadata": {},
   "outputs": [],
   "source": [
    "import matplotlib.pyplot as plt \n",
    "import seaborn as sns"
   ]
  },
  {
   "cell_type": "code",
   "execution_count": 3,
   "id": "4a326f10",
   "metadata": {},
   "outputs": [],
   "source": [
    "import scipy.stats as st\n",
    "from scipy.stats import norm"
   ]
  },
  {
   "cell_type": "markdown",
   "id": "b30fe8d0",
   "metadata": {},
   "source": [
    "## 1. Checking the structure & characteristics of the dataset."
   ]
  },
  {
   "cell_type": "code",
   "execution_count": 4,
   "id": "4759b814",
   "metadata": {},
   "outputs": [
    {
     "data": {
      "text/html": [
       "<div>\n",
       "<style scoped>\n",
       "    .dataframe tbody tr th:only-of-type {\n",
       "        vertical-align: middle;\n",
       "    }\n",
       "\n",
       "    .dataframe tbody tr th {\n",
       "        vertical-align: top;\n",
       "    }\n",
       "\n",
       "    .dataframe thead th {\n",
       "        text-align: right;\n",
       "    }\n",
       "</style>\n",
       "<table border=\"1\" class=\"dataframe\">\n",
       "  <thead>\n",
       "    <tr style=\"text-align: right;\">\n",
       "      <th></th>\n",
       "      <th>User_ID</th>\n",
       "      <th>Product_ID</th>\n",
       "      <th>Gender</th>\n",
       "      <th>Age</th>\n",
       "      <th>Occupation</th>\n",
       "      <th>City_Category</th>\n",
       "      <th>Stay_In_Current_City_Years</th>\n",
       "      <th>Marital_Status</th>\n",
       "      <th>Product_Category</th>\n",
       "      <th>Purchase</th>\n",
       "    </tr>\n",
       "  </thead>\n",
       "  <tbody>\n",
       "    <tr>\n",
       "      <th>0</th>\n",
       "      <td>1000001</td>\n",
       "      <td>P00069042</td>\n",
       "      <td>F</td>\n",
       "      <td>0-17</td>\n",
       "      <td>10</td>\n",
       "      <td>A</td>\n",
       "      <td>2</td>\n",
       "      <td>0</td>\n",
       "      <td>3</td>\n",
       "      <td>8370</td>\n",
       "    </tr>\n",
       "    <tr>\n",
       "      <th>1</th>\n",
       "      <td>1000001</td>\n",
       "      <td>P00248942</td>\n",
       "      <td>F</td>\n",
       "      <td>0-17</td>\n",
       "      <td>10</td>\n",
       "      <td>A</td>\n",
       "      <td>2</td>\n",
       "      <td>0</td>\n",
       "      <td>1</td>\n",
       "      <td>15200</td>\n",
       "    </tr>\n",
       "    <tr>\n",
       "      <th>2</th>\n",
       "      <td>1000001</td>\n",
       "      <td>P00087842</td>\n",
       "      <td>F</td>\n",
       "      <td>0-17</td>\n",
       "      <td>10</td>\n",
       "      <td>A</td>\n",
       "      <td>2</td>\n",
       "      <td>0</td>\n",
       "      <td>12</td>\n",
       "      <td>1422</td>\n",
       "    </tr>\n",
       "    <tr>\n",
       "      <th>3</th>\n",
       "      <td>1000001</td>\n",
       "      <td>P00085442</td>\n",
       "      <td>F</td>\n",
       "      <td>0-17</td>\n",
       "      <td>10</td>\n",
       "      <td>A</td>\n",
       "      <td>2</td>\n",
       "      <td>0</td>\n",
       "      <td>12</td>\n",
       "      <td>1057</td>\n",
       "    </tr>\n",
       "    <tr>\n",
       "      <th>4</th>\n",
       "      <td>1000002</td>\n",
       "      <td>P00285442</td>\n",
       "      <td>M</td>\n",
       "      <td>55+</td>\n",
       "      <td>16</td>\n",
       "      <td>C</td>\n",
       "      <td>4+</td>\n",
       "      <td>0</td>\n",
       "      <td>8</td>\n",
       "      <td>7969</td>\n",
       "    </tr>\n",
       "    <tr>\n",
       "      <th>...</th>\n",
       "      <td>...</td>\n",
       "      <td>...</td>\n",
       "      <td>...</td>\n",
       "      <td>...</td>\n",
       "      <td>...</td>\n",
       "      <td>...</td>\n",
       "      <td>...</td>\n",
       "      <td>...</td>\n",
       "      <td>...</td>\n",
       "      <td>...</td>\n",
       "    </tr>\n",
       "    <tr>\n",
       "      <th>550063</th>\n",
       "      <td>1006033</td>\n",
       "      <td>P00372445</td>\n",
       "      <td>M</td>\n",
       "      <td>51-55</td>\n",
       "      <td>13</td>\n",
       "      <td>B</td>\n",
       "      <td>1</td>\n",
       "      <td>1</td>\n",
       "      <td>20</td>\n",
       "      <td>368</td>\n",
       "    </tr>\n",
       "    <tr>\n",
       "      <th>550064</th>\n",
       "      <td>1006035</td>\n",
       "      <td>P00375436</td>\n",
       "      <td>F</td>\n",
       "      <td>26-35</td>\n",
       "      <td>1</td>\n",
       "      <td>C</td>\n",
       "      <td>3</td>\n",
       "      <td>0</td>\n",
       "      <td>20</td>\n",
       "      <td>371</td>\n",
       "    </tr>\n",
       "    <tr>\n",
       "      <th>550065</th>\n",
       "      <td>1006036</td>\n",
       "      <td>P00375436</td>\n",
       "      <td>F</td>\n",
       "      <td>26-35</td>\n",
       "      <td>15</td>\n",
       "      <td>B</td>\n",
       "      <td>4+</td>\n",
       "      <td>1</td>\n",
       "      <td>20</td>\n",
       "      <td>137</td>\n",
       "    </tr>\n",
       "    <tr>\n",
       "      <th>550066</th>\n",
       "      <td>1006038</td>\n",
       "      <td>P00375436</td>\n",
       "      <td>F</td>\n",
       "      <td>55+</td>\n",
       "      <td>1</td>\n",
       "      <td>C</td>\n",
       "      <td>2</td>\n",
       "      <td>0</td>\n",
       "      <td>20</td>\n",
       "      <td>365</td>\n",
       "    </tr>\n",
       "    <tr>\n",
       "      <th>550067</th>\n",
       "      <td>1006039</td>\n",
       "      <td>P00371644</td>\n",
       "      <td>F</td>\n",
       "      <td>46-50</td>\n",
       "      <td>0</td>\n",
       "      <td>B</td>\n",
       "      <td>4+</td>\n",
       "      <td>1</td>\n",
       "      <td>20</td>\n",
       "      <td>490</td>\n",
       "    </tr>\n",
       "  </tbody>\n",
       "</table>\n",
       "<p>550068 rows × 10 columns</p>\n",
       "</div>"
      ],
      "text/plain": [
       "        User_ID Product_ID Gender    Age  Occupation City_Category  \\\n",
       "0       1000001  P00069042      F   0-17          10             A   \n",
       "1       1000001  P00248942      F   0-17          10             A   \n",
       "2       1000001  P00087842      F   0-17          10             A   \n",
       "3       1000001  P00085442      F   0-17          10             A   \n",
       "4       1000002  P00285442      M    55+          16             C   \n",
       "...         ...        ...    ...    ...         ...           ...   \n",
       "550063  1006033  P00372445      M  51-55          13             B   \n",
       "550064  1006035  P00375436      F  26-35           1             C   \n",
       "550065  1006036  P00375436      F  26-35          15             B   \n",
       "550066  1006038  P00375436      F    55+           1             C   \n",
       "550067  1006039  P00371644      F  46-50           0             B   \n",
       "\n",
       "       Stay_In_Current_City_Years  Marital_Status  Product_Category  Purchase  \n",
       "0                               2               0                 3      8370  \n",
       "1                               2               0                 1     15200  \n",
       "2                               2               0                12      1422  \n",
       "3                               2               0                12      1057  \n",
       "4                              4+               0                 8      7969  \n",
       "...                           ...             ...               ...       ...  \n",
       "550063                          1               1                20       368  \n",
       "550064                          3               0                20       371  \n",
       "550065                         4+               1                20       137  \n",
       "550066                          2               0                20       365  \n",
       "550067                         4+               1                20       490  \n",
       "\n",
       "[550068 rows x 10 columns]"
      ]
     },
     "execution_count": 4,
     "metadata": {},
     "output_type": "execute_result"
    }
   ],
   "source": [
    "df = pd.read_csv('walmart.csv')\n",
    "df"
   ]
  },
  {
   "cell_type": "code",
   "execution_count": 5,
   "id": "dd16765b",
   "metadata": {},
   "outputs": [
    {
     "name": "stdout",
     "output_type": "stream",
     "text": [
      "<class 'pandas.core.frame.DataFrame'>\n",
      "RangeIndex: 550068 entries, 0 to 550067\n",
      "Data columns (total 10 columns):\n",
      " #   Column                      Non-Null Count   Dtype \n",
      "---  ------                      --------------   ----- \n",
      " 0   User_ID                     550068 non-null  int64 \n",
      " 1   Product_ID                  550068 non-null  object\n",
      " 2   Gender                      550068 non-null  object\n",
      " 3   Age                         550068 non-null  object\n",
      " 4   Occupation                  550068 non-null  int64 \n",
      " 5   City_Category               550068 non-null  object\n",
      " 6   Stay_In_Current_City_Years  550068 non-null  object\n",
      " 7   Marital_Status              550068 non-null  int64 \n",
      " 8   Product_Category            550068 non-null  int64 \n",
      " 9   Purchase                    550068 non-null  int64 \n",
      "dtypes: int64(5), object(5)\n",
      "memory usage: 42.0+ MB\n"
     ]
    }
   ],
   "source": [
    "df.info()"
   ]
  },
  {
   "cell_type": "code",
   "execution_count": 7,
   "id": "d1a85c75",
   "metadata": {},
   "outputs": [
    {
     "data": {
      "text/plain": [
       "(550068, 10)"
      ]
     },
     "execution_count": 7,
     "metadata": {},
     "output_type": "execute_result"
    }
   ],
   "source": [
    "df.shape"
   ]
  },
  {
   "cell_type": "markdown",
   "id": "e0ee7fcc",
   "metadata": {},
   "source": [
    "- There are total 550068 rows and 10 columns in data."
   ]
  },
  {
   "cell_type": "markdown",
   "id": "93ea9758",
   "metadata": {},
   "source": [
    "### Value Count for each Column : Showing unique values along with frequency -"
   ]
  },
  {
   "cell_type": "code",
   "execution_count": 12,
   "id": "f94aa7bb",
   "metadata": {},
   "outputs": [
    {
     "data": {
      "text/plain": [
       "P00265242    1880\n",
       "P00025442    1615\n",
       "P00110742    1612\n",
       "P00112142    1562\n",
       "P00057642    1470\n",
       "             ... \n",
       "P00314842       1\n",
       "P00298842       1\n",
       "P00231642       1\n",
       "P00204442       1\n",
       "P00066342       1\n",
       "Name: Product_ID, Length: 3631, dtype: int64"
      ]
     },
     "execution_count": 12,
     "metadata": {},
     "output_type": "execute_result"
    }
   ],
   "source": [
    "df['Product_ID'].value_counts()"
   ]
  },
  {
   "cell_type": "code",
   "execution_count": 13,
   "id": "0cf1d034",
   "metadata": {},
   "outputs": [
    {
     "data": {
      "text/plain": [
       "M    414259\n",
       "F    135809\n",
       "Name: Gender, dtype: int64"
      ]
     },
     "execution_count": 13,
     "metadata": {},
     "output_type": "execute_result"
    }
   ],
   "source": [
    "df['Gender'].value_counts()"
   ]
  },
  {
   "cell_type": "code",
   "execution_count": 15,
   "id": "70a43a79",
   "metadata": {},
   "outputs": [
    {
     "data": {
      "text/plain": [
       "B    231173\n",
       "C    171175\n",
       "A    147720\n",
       "Name: City_Category, dtype: int64"
      ]
     },
     "execution_count": 15,
     "metadata": {},
     "output_type": "execute_result"
    }
   ],
   "source": [
    "df['City_Category'].value_counts()"
   ]
  },
  {
   "cell_type": "code",
   "execution_count": 18,
   "id": "0f479fb1",
   "metadata": {},
   "outputs": [
    {
     "data": {
      "text/plain": [
       "26-35    219587\n",
       "36-45    110013\n",
       "18-25     99660\n",
       "46-50     45701\n",
       "51-55     38501\n",
       "55+       21504\n",
       "0-17      15102\n",
       "Name: Age, dtype: int64"
      ]
     },
     "execution_count": 18,
     "metadata": {},
     "output_type": "execute_result"
    }
   ],
   "source": [
    "df['Age'].value_counts()"
   ]
  },
  {
   "cell_type": "code",
   "execution_count": 16,
   "id": "a03dfb74",
   "metadata": {},
   "outputs": [
    {
     "data": {
      "text/plain": [
       "1     193821\n",
       "2     101838\n",
       "3      95285\n",
       "4+     84726\n",
       "0      74398\n",
       "Name: Stay_In_Current_City_Years, dtype: int64"
      ]
     },
     "execution_count": 16,
     "metadata": {},
     "output_type": "execute_result"
    }
   ],
   "source": [
    "df['Stay_In_Current_City_Years'].value_counts()"
   ]
  },
  {
   "cell_type": "code",
   "execution_count": 17,
   "id": "12169f66",
   "metadata": {},
   "outputs": [
    {
     "data": {
      "text/plain": [
       "0    324731\n",
       "1    225337\n",
       "Name: Marital_Status, dtype: int64"
      ]
     },
     "execution_count": 17,
     "metadata": {},
     "output_type": "execute_result"
    }
   ],
   "source": [
    "df['Marital_Status'].value_counts()"
   ]
  },
  {
   "cell_type": "code",
   "execution_count": 32,
   "id": "eb55d98b",
   "metadata": {},
   "outputs": [
    {
     "data": {
      "text/plain": [
       "5     150933\n",
       "1     140378\n",
       "8     113925\n",
       "11     24287\n",
       "2      23864\n",
       "6      20466\n",
       "3      20213\n",
       "4      11753\n",
       "16      9828\n",
       "15      6290\n",
       "13      5549\n",
       "10      5125\n",
       "12      3947\n",
       "7       3721\n",
       "18      3125\n",
       "20      2550\n",
       "19      1603\n",
       "14      1523\n",
       "17       578\n",
       "9        410\n",
       "Name: Product_Category, dtype: int64"
      ]
     },
     "execution_count": 32,
     "metadata": {},
     "output_type": "execute_result"
    }
   ],
   "source": [
    "df['Product_Category'].value_counts()"
   ]
  },
  {
   "cell_type": "code",
   "execution_count": 37,
   "id": "8cc40e79",
   "metadata": {},
   "outputs": [
    {
     "data": {
      "text/plain": [
       "4     72308\n",
       "0     69638\n",
       "7     59133\n",
       "1     47426\n",
       "17    40043\n",
       "20    33562\n",
       "12    31179\n",
       "14    27309\n",
       "2     26588\n",
       "16    25371\n",
       "6     20355\n",
       "3     17650\n",
       "10    12930\n",
       "5     12177\n",
       "15    12165\n",
       "11    11586\n",
       "19     8461\n",
       "13     7728\n",
       "18     6622\n",
       "9      6291\n",
       "8      1546\n",
       "Name: Occupation, dtype: int64"
      ]
     },
     "execution_count": 37,
     "metadata": {},
     "output_type": "execute_result"
    }
   ],
   "source": [
    "df['Occupation'].value_counts()"
   ]
  },
  {
   "cell_type": "code",
   "execution_count": 39,
   "id": "7c87931d",
   "metadata": {},
   "outputs": [
    {
     "data": {
      "text/plain": [
       "1001680    1026\n",
       "1004277     979\n",
       "1001941     898\n",
       "1001181     862\n",
       "1000889     823\n",
       "           ... \n",
       "1002690       7\n",
       "1002111       7\n",
       "1005810       7\n",
       "1004991       7\n",
       "1000708       6\n",
       "Name: User_ID, Length: 5891, dtype: int64"
      ]
     },
     "execution_count": 39,
     "metadata": {},
     "output_type": "execute_result"
    }
   ],
   "source": [
    "df['User_ID'].value_counts()"
   ]
  },
  {
   "cell_type": "code",
   "execution_count": 40,
   "id": "476708fb",
   "metadata": {},
   "outputs": [
    {
     "data": {
      "text/plain": [
       "7011     191\n",
       "7193     188\n",
       "6855     187\n",
       "6891     184\n",
       "7012     183\n",
       "        ... \n",
       "23491      1\n",
       "18345      1\n",
       "3372       1\n",
       "855        1\n",
       "21489      1\n",
       "Name: Purchase, Length: 18105, dtype: int64"
      ]
     },
     "execution_count": 40,
     "metadata": {},
     "output_type": "execute_result"
    }
   ],
   "source": [
    "df['Purchase'].value_counts()"
   ]
  },
  {
   "cell_type": "markdown",
   "id": "fb8cc6d9",
   "metadata": {},
   "source": [
    "### Observation :- \n",
    "- There are total of 550068 rows and 10 columns\n",
    "- There are no null values all columns \n",
    "- User_ID , Occupation, Marital_Status , Product_Category , Purchase are numeric (int) Fields \n",
    "- Product_ID , Gender , Age ,Stay_In_Current_City_Years , Marital_Status are Object Fields.\n",
    "- Also shown above the unique values in each column along with their frequecy ."
   ]
  },
  {
   "cell_type": "markdown",
   "id": "2c22dd8b",
   "metadata": {},
   "source": [
    "## 2. Null values & Outliers Detection"
   ]
  },
  {
   "cell_type": "code",
   "execution_count": 63,
   "id": "aace6d05",
   "metadata": {},
   "outputs": [
    {
     "name": "stdout",
     "output_type": "stream",
     "text": [
      "<class 'pandas.core.frame.DataFrame'>\n",
      "RangeIndex: 550068 entries, 0 to 550067\n",
      "Data columns (total 10 columns):\n",
      " #   Column                      Non-Null Count   Dtype \n",
      "---  ------                      --------------   ----- \n",
      " 0   User_ID                     550068 non-null  int64 \n",
      " 1   Product_ID                  550068 non-null  object\n",
      " 2   Gender                      550068 non-null  object\n",
      " 3   Age                         550068 non-null  object\n",
      " 4   Occupation                  550068 non-null  int64 \n",
      " 5   City_Category               550068 non-null  object\n",
      " 6   Stay_In_Current_City_Years  550068 non-null  object\n",
      " 7   Marital_Status              550068 non-null  int64 \n",
      " 8   Product_Category            550068 non-null  int64 \n",
      " 9   Purchase                    550068 non-null  int64 \n",
      "dtypes: int64(5), object(5)\n",
      "memory usage: 42.0+ MB\n"
     ]
    }
   ],
   "source": [
    "df.info()"
   ]
  },
  {
   "cell_type": "markdown",
   "id": "074870e7",
   "metadata": {},
   "source": [
    "-  Converting few int column to object based on seeing the unique values in it and logic\n",
    "- Marital Status has only 2 unique values 0 and 1 so it should be an object data type.\n",
    "- User_ID should be Object data type as if we treat it as int and then taking out its mean,standard deviation,variance will not convey correct and right info.\n",
    "- Occupation and Product_Category is also something which must be Object Column and not treated as int "
   ]
  },
  {
   "cell_type": "code",
   "execution_count": 64,
   "id": "64f6968d",
   "metadata": {},
   "outputs": [],
   "source": [
    "df['Product_Category'] = df['Product_Category'].astype(object)\n",
    "df['Marital_Status'] = df['Marital_Status'].astype(object)\n",
    "df['User_ID']=df['User_ID'].astype(object)\n",
    "df['Occupation'] = df['Occupation'].astype(object)"
   ]
  },
  {
   "cell_type": "code",
   "execution_count": 65,
   "id": "4b793d0f",
   "metadata": {},
   "outputs": [
    {
     "name": "stdout",
     "output_type": "stream",
     "text": [
      "<class 'pandas.core.frame.DataFrame'>\n",
      "RangeIndex: 550068 entries, 0 to 550067\n",
      "Data columns (total 10 columns):\n",
      " #   Column                      Non-Null Count   Dtype \n",
      "---  ------                      --------------   ----- \n",
      " 0   User_ID                     550068 non-null  object\n",
      " 1   Product_ID                  550068 non-null  object\n",
      " 2   Gender                      550068 non-null  object\n",
      " 3   Age                         550068 non-null  object\n",
      " 4   Occupation                  550068 non-null  object\n",
      " 5   City_Category               550068 non-null  object\n",
      " 6   Stay_In_Current_City_Years  550068 non-null  object\n",
      " 7   Marital_Status              550068 non-null  object\n",
      " 8   Product_Category            550068 non-null  object\n",
      " 9   Purchase                    550068 non-null  int64 \n",
      "dtypes: int64(1), object(9)\n",
      "memory usage: 42.0+ MB\n"
     ]
    }
   ],
   "source": [
    "df.info()"
   ]
  },
  {
   "cell_type": "code",
   "execution_count": 66,
   "id": "3d891530",
   "metadata": {},
   "outputs": [
    {
     "data": {
      "text/plain": [
       "User_ID                       0\n",
       "Product_ID                    0\n",
       "Gender                        0\n",
       "Age                           0\n",
       "Occupation                    0\n",
       "City_Category                 0\n",
       "Stay_In_Current_City_Years    0\n",
       "Marital_Status                0\n",
       "Product_Category              0\n",
       "Purchase                      0\n",
       "dtype: int64"
      ]
     },
     "execution_count": 66,
     "metadata": {},
     "output_type": "execute_result"
    }
   ],
   "source": [
    "df.isna().sum()"
   ]
  },
  {
   "cell_type": "markdown",
   "id": "a0ac17a9",
   "metadata": {},
   "source": [
    "- There are no NULL values in all columns in given dataset."
   ]
  },
  {
   "cell_type": "code",
   "execution_count": 67,
   "id": "31fcb678",
   "metadata": {},
   "outputs": [
    {
     "data": {
      "text/html": [
       "<div>\n",
       "<style scoped>\n",
       "    .dataframe tbody tr th:only-of-type {\n",
       "        vertical-align: middle;\n",
       "    }\n",
       "\n",
       "    .dataframe tbody tr th {\n",
       "        vertical-align: top;\n",
       "    }\n",
       "\n",
       "    .dataframe thead th {\n",
       "        text-align: right;\n",
       "    }\n",
       "</style>\n",
       "<table border=\"1\" class=\"dataframe\">\n",
       "  <thead>\n",
       "    <tr style=\"text-align: right;\">\n",
       "      <th></th>\n",
       "      <th>User_ID</th>\n",
       "      <th>Product_ID</th>\n",
       "      <th>Gender</th>\n",
       "      <th>Age</th>\n",
       "      <th>Occupation</th>\n",
       "      <th>City_Category</th>\n",
       "      <th>Stay_In_Current_City_Years</th>\n",
       "      <th>Marital_Status</th>\n",
       "      <th>Product_Category</th>\n",
       "    </tr>\n",
       "  </thead>\n",
       "  <tbody>\n",
       "    <tr>\n",
       "      <th>count</th>\n",
       "      <td>550068</td>\n",
       "      <td>550068</td>\n",
       "      <td>550068</td>\n",
       "      <td>550068</td>\n",
       "      <td>550068</td>\n",
       "      <td>550068</td>\n",
       "      <td>550068</td>\n",
       "      <td>550068</td>\n",
       "      <td>550068</td>\n",
       "    </tr>\n",
       "    <tr>\n",
       "      <th>unique</th>\n",
       "      <td>5891</td>\n",
       "      <td>3631</td>\n",
       "      <td>2</td>\n",
       "      <td>7</td>\n",
       "      <td>21</td>\n",
       "      <td>3</td>\n",
       "      <td>5</td>\n",
       "      <td>2</td>\n",
       "      <td>20</td>\n",
       "    </tr>\n",
       "    <tr>\n",
       "      <th>top</th>\n",
       "      <td>1001680</td>\n",
       "      <td>P00265242</td>\n",
       "      <td>M</td>\n",
       "      <td>26-35</td>\n",
       "      <td>4</td>\n",
       "      <td>B</td>\n",
       "      <td>1</td>\n",
       "      <td>0</td>\n",
       "      <td>5</td>\n",
       "    </tr>\n",
       "    <tr>\n",
       "      <th>freq</th>\n",
       "      <td>1026</td>\n",
       "      <td>1880</td>\n",
       "      <td>414259</td>\n",
       "      <td>219587</td>\n",
       "      <td>72308</td>\n",
       "      <td>231173</td>\n",
       "      <td>193821</td>\n",
       "      <td>324731</td>\n",
       "      <td>150933</td>\n",
       "    </tr>\n",
       "  </tbody>\n",
       "</table>\n",
       "</div>"
      ],
      "text/plain": [
       "        User_ID Product_ID  Gender     Age  Occupation City_Category  \\\n",
       "count    550068     550068  550068  550068      550068        550068   \n",
       "unique     5891       3631       2       7          21             3   \n",
       "top     1001680  P00265242       M   26-35           4             B   \n",
       "freq       1026       1880  414259  219587       72308        231173   \n",
       "\n",
       "       Stay_In_Current_City_Years  Marital_Status  Product_Category  \n",
       "count                      550068          550068            550068  \n",
       "unique                          5               2                20  \n",
       "top                             1               0                 5  \n",
       "freq                       193821          324731            150933  "
      ]
     },
     "execution_count": 67,
     "metadata": {},
     "output_type": "execute_result"
    }
   ],
   "source": [
    "df.describe(include=object)  # For object type column"
   ]
  },
  {
   "cell_type": "code",
   "execution_count": 68,
   "id": "40b75f12",
   "metadata": {},
   "outputs": [
    {
     "data": {
      "text/html": [
       "<div>\n",
       "<style scoped>\n",
       "    .dataframe tbody tr th:only-of-type {\n",
       "        vertical-align: middle;\n",
       "    }\n",
       "\n",
       "    .dataframe tbody tr th {\n",
       "        vertical-align: top;\n",
       "    }\n",
       "\n",
       "    .dataframe thead th {\n",
       "        text-align: right;\n",
       "    }\n",
       "</style>\n",
       "<table border=\"1\" class=\"dataframe\">\n",
       "  <thead>\n",
       "    <tr style=\"text-align: right;\">\n",
       "      <th></th>\n",
       "      <th>Purchase</th>\n",
       "    </tr>\n",
       "  </thead>\n",
       "  <tbody>\n",
       "    <tr>\n",
       "      <th>count</th>\n",
       "      <td>550068.000000</td>\n",
       "    </tr>\n",
       "    <tr>\n",
       "      <th>mean</th>\n",
       "      <td>9263.968713</td>\n",
       "    </tr>\n",
       "    <tr>\n",
       "      <th>std</th>\n",
       "      <td>5023.065394</td>\n",
       "    </tr>\n",
       "    <tr>\n",
       "      <th>min</th>\n",
       "      <td>12.000000</td>\n",
       "    </tr>\n",
       "    <tr>\n",
       "      <th>25%</th>\n",
       "      <td>5823.000000</td>\n",
       "    </tr>\n",
       "    <tr>\n",
       "      <th>50%</th>\n",
       "      <td>8047.000000</td>\n",
       "    </tr>\n",
       "    <tr>\n",
       "      <th>75%</th>\n",
       "      <td>12054.000000</td>\n",
       "    </tr>\n",
       "    <tr>\n",
       "      <th>max</th>\n",
       "      <td>23961.000000</td>\n",
       "    </tr>\n",
       "  </tbody>\n",
       "</table>\n",
       "</div>"
      ],
      "text/plain": [
       "            Purchase\n",
       "count  550068.000000\n",
       "mean     9263.968713\n",
       "std      5023.065394\n",
       "min        12.000000\n",
       "25%      5823.000000\n",
       "50%      8047.000000\n",
       "75%     12054.000000\n",
       "max     23961.000000"
      ]
     },
     "execution_count": 68,
     "metadata": {},
     "output_type": "execute_result"
    }
   ],
   "source": [
    "df_describe = df.describe() # For all int type columns\n",
    "df_describe"
   ]
  },
  {
   "cell_type": "code",
   "execution_count": 69,
   "id": "a34aa5a6",
   "metadata": {},
   "outputs": [
    {
     "data": {
      "text/html": [
       "<div>\n",
       "<style scoped>\n",
       "    .dataframe tbody tr th:only-of-type {\n",
       "        vertical-align: middle;\n",
       "    }\n",
       "\n",
       "    .dataframe tbody tr th {\n",
       "        vertical-align: top;\n",
       "    }\n",
       "\n",
       "    .dataframe thead th {\n",
       "        text-align: right;\n",
       "    }\n",
       "</style>\n",
       "<table border=\"1\" class=\"dataframe\">\n",
       "  <thead>\n",
       "    <tr style=\"text-align: right;\">\n",
       "      <th></th>\n",
       "      <th>Purchase</th>\n",
       "    </tr>\n",
       "  </thead>\n",
       "  <tbody>\n",
       "    <tr>\n",
       "      <th>count</th>\n",
       "      <td>550068.000000</td>\n",
       "    </tr>\n",
       "    <tr>\n",
       "      <th>mean</th>\n",
       "      <td>9263.968713</td>\n",
       "    </tr>\n",
       "    <tr>\n",
       "      <th>std</th>\n",
       "      <td>5023.065394</td>\n",
       "    </tr>\n",
       "    <tr>\n",
       "      <th>min</th>\n",
       "      <td>12.000000</td>\n",
       "    </tr>\n",
       "    <tr>\n",
       "      <th>25%</th>\n",
       "      <td>5823.000000</td>\n",
       "    </tr>\n",
       "    <tr>\n",
       "      <th>50%</th>\n",
       "      <td>8047.000000</td>\n",
       "    </tr>\n",
       "    <tr>\n",
       "      <th>75%</th>\n",
       "      <td>12054.000000</td>\n",
       "    </tr>\n",
       "    <tr>\n",
       "      <th>max</th>\n",
       "      <td>23961.000000</td>\n",
       "    </tr>\n",
       "    <tr>\n",
       "      <th>IQR</th>\n",
       "      <td>6231.000000</td>\n",
       "    </tr>\n",
       "  </tbody>\n",
       "</table>\n",
       "</div>"
      ],
      "text/plain": [
       "            Purchase\n",
       "count  550068.000000\n",
       "mean     9263.968713\n",
       "std      5023.065394\n",
       "min        12.000000\n",
       "25%      5823.000000\n",
       "50%      8047.000000\n",
       "75%     12054.000000\n",
       "max     23961.000000\n",
       "IQR      6231.000000"
      ]
     },
     "execution_count": 69,
     "metadata": {},
     "output_type": "execute_result"
    }
   ],
   "source": [
    "df_describe.loc['IQR',:]=df_describe.loc['75%',:] - df_describe.loc['25%',:]\n",
    "df_describe"
   ]
  },
  {
   "cell_type": "code",
   "execution_count": 70,
   "id": "07972c2c",
   "metadata": {},
   "outputs": [
    {
     "data": {
      "text/html": [
       "<div>\n",
       "<style scoped>\n",
       "    .dataframe tbody tr th:only-of-type {\n",
       "        vertical-align: middle;\n",
       "    }\n",
       "\n",
       "    .dataframe tbody tr th {\n",
       "        vertical-align: top;\n",
       "    }\n",
       "\n",
       "    .dataframe thead th {\n",
       "        text-align: right;\n",
       "    }\n",
       "</style>\n",
       "<table border=\"1\" class=\"dataframe\">\n",
       "  <thead>\n",
       "    <tr style=\"text-align: right;\">\n",
       "      <th></th>\n",
       "      <th>Purchase</th>\n",
       "    </tr>\n",
       "  </thead>\n",
       "  <tbody>\n",
       "    <tr>\n",
       "      <th>count</th>\n",
       "      <td>550068.000000</td>\n",
       "    </tr>\n",
       "    <tr>\n",
       "      <th>mean</th>\n",
       "      <td>9263.968713</td>\n",
       "    </tr>\n",
       "    <tr>\n",
       "      <th>std</th>\n",
       "      <td>5023.065394</td>\n",
       "    </tr>\n",
       "    <tr>\n",
       "      <th>min</th>\n",
       "      <td>12.000000</td>\n",
       "    </tr>\n",
       "    <tr>\n",
       "      <th>25%</th>\n",
       "      <td>5823.000000</td>\n",
       "    </tr>\n",
       "    <tr>\n",
       "      <th>50%</th>\n",
       "      <td>8047.000000</td>\n",
       "    </tr>\n",
       "    <tr>\n",
       "      <th>75%</th>\n",
       "      <td>12054.000000</td>\n",
       "    </tr>\n",
       "    <tr>\n",
       "      <th>max</th>\n",
       "      <td>23961.000000</td>\n",
       "    </tr>\n",
       "    <tr>\n",
       "      <th>IQR</th>\n",
       "      <td>6231.000000</td>\n",
       "    </tr>\n",
       "    <tr>\n",
       "      <th>Upper Wisker</th>\n",
       "      <td>21400.500000</td>\n",
       "    </tr>\n",
       "    <tr>\n",
       "      <th>Lower Wisker</th>\n",
       "      <td>-3523.500000</td>\n",
       "    </tr>\n",
       "  </tbody>\n",
       "</table>\n",
       "</div>"
      ],
      "text/plain": [
       "                   Purchase\n",
       "count         550068.000000\n",
       "mean            9263.968713\n",
       "std             5023.065394\n",
       "min               12.000000\n",
       "25%             5823.000000\n",
       "50%             8047.000000\n",
       "75%            12054.000000\n",
       "max            23961.000000\n",
       "IQR             6231.000000\n",
       "Upper Wisker   21400.500000\n",
       "Lower Wisker   -3523.500000"
      ]
     },
     "execution_count": 70,
     "metadata": {},
     "output_type": "execute_result"
    }
   ],
   "source": [
    "df_describe.loc['Upper Wisker',:] = df_describe.loc['75%',:] + (1.5* df_describe.loc['IQR',:])\n",
    "df_describe.loc['Lower Wisker',:] = df_describe.loc['25%',:] - (1.5* df_describe.loc['IQR',:])\n",
    "df_describe"
   ]
  },
  {
   "cell_type": "markdown",
   "id": "c2f28389",
   "metadata": {},
   "source": [
    "- Any value in a column which is greater than (>) then Upper Wisker( UW) or any value in a column which is less than (<) then Lower Wisker(LW) is called 'OUTLIER'\n",
    "- Mean is sensitive to outliers and median is not sensitive to outliers , so more the outliers in a column the mean is changed more."
   ]
  },
  {
   "cell_type": "markdown",
   "id": "2891fe9e",
   "metadata": {},
   "source": [
    "### Box Plot "
   ]
  },
  {
   "cell_type": "code",
   "execution_count": 75,
   "id": "cbe8f6c3",
   "metadata": {},
   "outputs": [
    {
     "name": "stdout",
     "output_type": "stream",
     "text": [
      "Total Outliers in Purchase Column =  2677\n"
     ]
    },
    {
     "data": {
      "image/png": "[encoded data removed]",
      "text/plain": [
       "<Figure size 720x576 with 1 Axes>"
      ]
     },
     "metadata": {
      "needs_background": "light"
     },
     "output_type": "display_data"
    }
   ],
   "source": [
    "num_Purchase_Outliers= df[(df['Purchase'] > df_describe.loc['Upper Wisker','Purchase']) | (df['Purchase'] < df_describe.loc['Lower Wisker','Purchase'])]\n",
    "print('Total Outliers in Purchase Column = ',num_Purchase_Outliers.shape[0])\n",
    "\n",
    "\n",
    "plt.figure(figsize=(10,8))\n",
    "sns.boxplot(x=df['Purchase'])\n",
    "plt.show()"
   ]
  },
  {
   "cell_type": "markdown",
   "id": "0494fd3f",
   "metadata": {},
   "source": [
    "## 3. Data exploration - Male and Female Data"
   ]
  },
  {
   "cell_type": "code",
   "execution_count": 97,
   "id": "b408ece6",
   "metadata": {},
   "outputs": [],
   "source": [
    "df_male = df.loc[df['Gender'] =='M',: ]\n",
    "df_female = df.loc[df['Gender']=='F',:]"
   ]
  },
  {
   "cell_type": "code",
   "execution_count": 90,
   "id": "b3eb49ad",
   "metadata": {},
   "outputs": [
    {
     "name": "stdout",
     "output_type": "stream",
     "text": [
      "(414259, 10)\n",
      "(135809, 10)\n"
     ]
    }
   ],
   "source": [
    "print(df_male.shape)\n",
    "print(df_female.shape)"
   ]
  },
  {
   "cell_type": "code",
   "execution_count": 91,
   "id": "524553a3",
   "metadata": {},
   "outputs": [
    {
     "data": {
      "text/plain": [
       "9437.526040472265"
      ]
     },
     "execution_count": 91,
     "metadata": {},
     "output_type": "execute_result"
    }
   ],
   "source": [
    "# Average Male Expenses\n",
    "df_male['Purchase'].mean()"
   ]
  },
  {
   "cell_type": "code",
   "execution_count": 92,
   "id": "c48e0845",
   "metadata": {},
   "outputs": [
    {
     "data": {
      "text/plain": [
       "8734.565765155476"
      ]
     },
     "execution_count": 92,
     "metadata": {},
     "output_type": "execute_result"
    }
   ],
   "source": [
    "# Average Female Expenses\n",
    "df_female['Purchase'].mean()"
   ]
  },
  {
   "cell_type": "code",
   "execution_count": 86,
   "id": "67021039",
   "metadata": {},
   "outputs": [
    {
     "data": {
      "image/png": "[encoded data removed]",
      "text/plain": [
       "<Figure size 576x432 with 1 Axes>"
      ]
     },
     "metadata": {
      "needs_background": "light"
     },
     "output_type": "display_data"
    }
   ],
   "source": [
    "plt.figure(figsize=(8,6))\n",
    "\n",
    "ax= sns.barplot(data = df , x='Gender' , y=\"Purchase\")\n",
    "\n",
    "for i in ax.containers:\n",
    "    ax.bar_label(i)\n",
    "    \n",
    "plt.ylabel('Average Purchase Amount')\n",
    "plt.xlabel('Gender')\n",
    "\n",
    "plt.title('Purchase Amount VS Gender ')\n",
    "plt.show()"
   ]
  },
  {
   "cell_type": "markdown",
   "id": "daadae74",
   "metadata": {},
   "source": [
    "- Seeing above Bar Plot we can see Average Purchase amount / expenses of Male is higher than Female "
   ]
  },
  {
   "cell_type": "code",
   "execution_count": 87,
   "id": "f65248b8",
   "metadata": {},
   "outputs": [
    {
     "data": {
      "text/html": [
       "<div>\n",
       "<style scoped>\n",
       "    .dataframe tbody tr th:only-of-type {\n",
       "        vertical-align: middle;\n",
       "    }\n",
       "\n",
       "    .dataframe tbody tr th {\n",
       "        vertical-align: top;\n",
       "    }\n",
       "\n",
       "    .dataframe thead th {\n",
       "        text-align: right;\n",
       "    }\n",
       "</style>\n",
       "<table border=\"1\" class=\"dataframe\">\n",
       "  <thead>\n",
       "    <tr style=\"text-align: right;\">\n",
       "      <th></th>\n",
       "      <th>Purchase</th>\n",
       "    </tr>\n",
       "  </thead>\n",
       "  <tbody>\n",
       "    <tr>\n",
       "      <th>count</th>\n",
       "      <td>414259.00000</td>\n",
       "    </tr>\n",
       "    <tr>\n",
       "      <th>mean</th>\n",
       "      <td>9437.52604</td>\n",
       "    </tr>\n",
       "    <tr>\n",
       "      <th>std</th>\n",
       "      <td>5092.18621</td>\n",
       "    </tr>\n",
       "    <tr>\n",
       "      <th>min</th>\n",
       "      <td>12.00000</td>\n",
       "    </tr>\n",
       "    <tr>\n",
       "      <th>25%</th>\n",
       "      <td>5863.00000</td>\n",
       "    </tr>\n",
       "    <tr>\n",
       "      <th>50%</th>\n",
       "      <td>8098.00000</td>\n",
       "    </tr>\n",
       "    <tr>\n",
       "      <th>75%</th>\n",
       "      <td>12454.00000</td>\n",
       "    </tr>\n",
       "    <tr>\n",
       "      <th>max</th>\n",
       "      <td>23961.00000</td>\n",
       "    </tr>\n",
       "  </tbody>\n",
       "</table>\n",
       "</div>"
      ],
      "text/plain": [
       "           Purchase\n",
       "count  414259.00000\n",
       "mean     9437.52604\n",
       "std      5092.18621\n",
       "min        12.00000\n",
       "25%      5863.00000\n",
       "50%      8098.00000\n",
       "75%     12454.00000\n",
       "max     23961.00000"
      ]
     },
     "execution_count": 87,
     "metadata": {},
     "output_type": "execute_result"
    }
   ],
   "source": [
    "df_male.describe()"
   ]
  },
  {
   "cell_type": "code",
   "execution_count": 88,
   "id": "07cda5c1",
   "metadata": {},
   "outputs": [
    {
     "data": {
      "text/html": [
       "<div>\n",
       "<style scoped>\n",
       "    .dataframe tbody tr th:only-of-type {\n",
       "        vertical-align: middle;\n",
       "    }\n",
       "\n",
       "    .dataframe tbody tr th {\n",
       "        vertical-align: top;\n",
       "    }\n",
       "\n",
       "    .dataframe thead th {\n",
       "        text-align: right;\n",
       "    }\n",
       "</style>\n",
       "<table border=\"1\" class=\"dataframe\">\n",
       "  <thead>\n",
       "    <tr style=\"text-align: right;\">\n",
       "      <th></th>\n",
       "      <th>Purchase</th>\n",
       "    </tr>\n",
       "  </thead>\n",
       "  <tbody>\n",
       "    <tr>\n",
       "      <th>count</th>\n",
       "      <td>135809.000000</td>\n",
       "    </tr>\n",
       "    <tr>\n",
       "      <th>mean</th>\n",
       "      <td>8734.565765</td>\n",
       "    </tr>\n",
       "    <tr>\n",
       "      <th>std</th>\n",
       "      <td>4767.233289</td>\n",
       "    </tr>\n",
       "    <tr>\n",
       "      <th>min</th>\n",
       "      <td>12.000000</td>\n",
       "    </tr>\n",
       "    <tr>\n",
       "      <th>25%</th>\n",
       "      <td>5433.000000</td>\n",
       "    </tr>\n",
       "    <tr>\n",
       "      <th>50%</th>\n",
       "      <td>7914.000000</td>\n",
       "    </tr>\n",
       "    <tr>\n",
       "      <th>75%</th>\n",
       "      <td>11400.000000</td>\n",
       "    </tr>\n",
       "    <tr>\n",
       "      <th>max</th>\n",
       "      <td>23959.000000</td>\n",
       "    </tr>\n",
       "  </tbody>\n",
       "</table>\n",
       "</div>"
      ],
      "text/plain": [
       "            Purchase\n",
       "count  135809.000000\n",
       "mean     8734.565765\n",
       "std      4767.233289\n",
       "min        12.000000\n",
       "25%      5433.000000\n",
       "50%      7914.000000\n",
       "75%     11400.000000\n",
       "max     23959.000000"
      ]
     },
     "execution_count": 88,
     "metadata": {},
     "output_type": "execute_result"
    }
   ],
   "source": [
    "df_female.describe()"
   ]
  },
  {
   "cell_type": "markdown",
   "id": "c1e007c9",
   "metadata": {},
   "source": [
    "## NOTE :"
   ]
  },
  {
   "cell_type": "markdown",
   "id": "3f25f7f6",
   "metadata": {},
   "source": [
    "#### While sample() and choice() return a list of multiple random elements. sample() is for random sampling without replacement, whereas choice() is for random sampling with replacement."
   ]
  },
  {
   "cell_type": "code",
   "execution_count": 82,
   "id": "fcf7a76d",
   "metadata": {},
   "outputs": [
    {
     "name": "stdout",
     "output_type": "stream",
     "text": [
      "[4 2 9 0 3 1 6 5 8 7]\n",
      "[9 0 2 6 8 6 3 5 2 6]\n"
     ]
    }
   ],
   "source": [
    "import random\n",
    "\n",
    "\n",
    "ll =pd.Series( list(range(10)))\n",
    "\n",
    "print(ll.sample(10).values)\n",
    "# [6, 9, 0, 2, 4, 3, 5, 1, 8, 7]\n",
    "\n",
    "print(np.random.choice(ll, size=10))\n",
    "# [5, 9, 5, 2, 7, 6, 2, 9, 9, 8]"
   ]
  },
  {
   "cell_type": "code",
   "execution_count": 83,
   "id": "3755b537",
   "metadata": {},
   "outputs": [],
   "source": [
    "# Note : sample() does not produce repeating elements, while choice() does"
   ]
  },
  {
   "cell_type": "code",
   "execution_count": null,
   "id": "032e64db",
   "metadata": {},
   "outputs": [],
   "source": [
    "# 95% CI for male and female spends \n",
    "# Ways to calculate CI :- "
   ]
  },
  {
   "cell_type": "markdown",
   "id": "e97798d9",
   "metadata": {},
   "source": [
    "### Method 1: Using formula Directly"
   ]
  },
  {
   "cell_type": "code",
   "execution_count": 131,
   "id": "2a955f33",
   "metadata": {},
   "outputs": [
    {
     "data": {
      "text/plain": [
       "(9422.01944736257, 9453.032633581959)"
      ]
     },
     "execution_count": 131,
     "metadata": {},
     "output_type": "execute_result"
    }
   ],
   "source": [
    "\n",
    "norm.interval(alpha = 0.95, loc= df_males['Purchase'].mean() , scale = st.sem(df_males['Purchase'])) "
   ]
  },
  {
   "cell_type": "code",
   "execution_count": 110,
   "id": "f35d4b10",
   "metadata": {},
   "outputs": [
    {
     "data": {
      "text/plain": [
       "(8709.21154714068, 8759.919983170272)"
      ]
     },
     "execution_count": 110,
     "metadata": {},
     "output_type": "execute_result"
    }
   ],
   "source": [
    "\n",
    "norm.interval(alpha = 0.95, loc= df_females['Purchase'].mean() , scale = st.sem(df_females['Purchase'])) "
   ]
  },
  {
   "cell_type": "markdown",
   "id": "be20f6c3",
   "metadata": {},
   "source": [
    "### Method  2: Bootstrapping"
   ]
  },
  {
   "cell_type": "code",
   "execution_count": 114,
   "id": "81fc4be7",
   "metadata": {},
   "outputs": [
    {
     "name": "stdout",
     "output_type": "stream",
     "text": [
      "[9252.31725    9615.39660833]\n",
      "[8567.33763333 8902.64010833]\n"
     ]
    }
   ],
   "source": [
    "# Using sample method to select samples\n",
    "\n",
    "sample_size = 3000\n",
    "iterations = 2000\n",
    "df_males = df[df.Gender=='M']\n",
    "male_spends = []\n",
    "for iter in range(iterations):\n",
    "    male_spends.append(\n",
    "    df_males.sample(sample_size)['Purchase'].mean())\n",
    "\n",
    "print(np.percentile(male_spends,[2.5,97.5]))\n",
    "\n",
    "\n",
    "df_females = df[df.Gender=='F']\n",
    "female_spends = []\n",
    "for iter in range(iterations):\n",
    "    female_spends.append(\n",
    "    df_females.sample(sample_size)['Purchase'].mean())\n",
    "    \n",
    "print(np.percentile(female_spends,[2.5,97.5]))"
   ]
  },
  {
   "cell_type": "code",
   "execution_count": 124,
   "id": "b77a081a",
   "metadata": {},
   "outputs": [
    {
     "name": "stdout",
     "output_type": "stream",
     "text": [
      "[9253.42754167 9619.070575  ]\n",
      "[8565.26433333 8899.62225   ]\n"
     ]
    }
   ],
   "source": [
    "# Using Random choice to select samples\n",
    "\n",
    "sample_size = 3000\n",
    "iterations = 2000\n",
    "df_males = df[df.Gender=='M']\n",
    "male_spends = []\n",
    "for iter in range(iterations):\n",
    "    male_spends.append(\n",
    "    np.mean(np.random.choice(df_males['Purchase'], size=sample_size)))\n",
    "    \n",
    "print(np.percentile(male_spends,[2.5,97.5]))\n",
    "\n",
    "\n",
    "df_females = df[df.Gender=='F']\n",
    "female_spends = []\n",
    "for iter in range(iterations):\n",
    "    female_spends.append(\n",
    "    np.random.choice(df_females['Purchase'], size=sample_size).mean())\n",
    "    \n",
    "print(np.percentile(female_spends,[2.5,97.5]))\n",
    "\n"
   ]
  },
  {
   "cell_type": "code",
   "execution_count": null,
   "id": "eaeced2d",
   "metadata": {},
   "outputs": [],
   "source": []
  },
  {
   "cell_type": "code",
   "execution_count": 137,
   "id": "7402f191",
   "metadata": {},
   "outputs": [
    {
     "name": "stdout",
     "output_type": "stream",
     "text": [
      "[9378.8970225, 9495.125881666667]\n",
      "[8681.756815, 8788.889669166667]\n"
     ]
    }
   ],
   "source": [
    "\n",
    "iterations = 10000\n",
    "\n",
    "def boot_strap_method(data, sample_size,confidence_intterval):\n",
    "    ans=[]\n",
    "    for reps in range(iterations):\n",
    "        bootstrapped_samples = np.random.choice(data, size=sample_size)\n",
    "        bootstrapped_mean =  np.mean(bootstrapped_samples)\n",
    "        ans.append(bootstrapped_mean)\n",
    "    # % CI : [x1,x2]\n",
    "    x1 = np.percentile(ans,2.5)\n",
    "    x2 = np.percentile(ans,97.5)\n",
    "    return [x1,x2]\n",
    "\n",
    "print(boot_strap_method(data = df_males['Purchase'], sample_size = 30000,confidence_intterval = 95))\n",
    "print(boot_strap_method(data = df_females['Purchase'], sample_size =30000,confidence_intterval = 95))"
   ]
  },
  {
   "cell_type": "markdown",
   "id": "4a1fcfc1",
   "metadata": {},
   "source": [
    "### Method 3 : Thoeritical Formula"
   ]
  },
  {
   "cell_type": "code",
   "execution_count": 126,
   "id": "2220efa6",
   "metadata": {},
   "outputs": [
    {
     "name": "stdout",
     "output_type": "stream",
     "text": [
      "9254.864001835746 9613.738453164251\n",
      "8564.115658762965 8899.66639957037\n"
     ]
    }
   ],
   "source": [
    "# Using Theoritical Formula : CI = [u - Z*std_error , u + Z*std_error ]\n",
    "\n",
    "# males\n",
    "min_male = np.mean(male_spends) - 1.96*np.std(male_spends)\n",
    "max_male = np.mean(male_spends) + 1.96*np.std(male_spends)\n",
    "print(min_male, max_male)\n",
    "\n",
    "# Note : The mean here is mean of array of sample means generated in bootstrap method \n",
    "# We cannot take mean = np.mean(df_males['Purchase']) as this will give population mean and \n",
    "# we need to take the mean of sample means so we used male_spends and female_spends\n",
    " \n",
    "# females\n",
    "min_female = np.mean(female_spends) - 1.96*np.std(female_spends)\n",
    "max_female = np.mean(female_spends) + 1.96*np.std(female_spends)\n",
    "print(min_female, max_female)\n"
   ]
  },
  {
   "cell_type": "code",
   "execution_count": null,
   "id": "458fa256",
   "metadata": {},
   "outputs": [],
   "source": []
  },
  {
   "cell_type": "markdown",
   "id": "33aa8665",
   "metadata": {},
   "source": [
    "### 95% Confidence Interval for Male Average Spends"
   ]
  },
  {
   "cell_type": "code",
   "execution_count": 21,
   "id": "aace12fb",
   "metadata": {},
   "outputs": [
    {
     "data": {
      "text/plain": [
       "(9422.01944736257, 9453.032633581959)"
      ]
     },
     "execution_count": 21,
     "metadata": {},
     "output_type": "execute_result"
    }
   ],
   "source": [
    "# Method 1 : Using Formula Directly \n",
    "norm.interval(alpha = 0.95, loc= df_male['Purchase'].mean() , scale = st.sem(df_male['Purchase'])) "
   ]
  },
  {
   "cell_type": "code",
   "execution_count": 138,
   "id": "947fbf05",
   "metadata": {},
   "outputs": [],
   "source": [
    "# Method 2 : Bootstrapping Method \n",
    "\n",
    "def boot_strap_method(data, sample_size,confidence_intterval):\n",
    "    ans=[]\n",
    "    for reps in range(1000):\n",
    "        bootstrapped_samples = np.random.choice(data, size=sample_size)\n",
    "        bootstrapped_mean =  np.mean(bootstrapped_samples)\n",
    "        ans.append(bootstrapped_mean)\n",
    "    # % CI : [x1,x2]\n",
    "    x1 = np.percentile(ans,(100-confidence_intterval)/2)\n",
    "    x2 = np.percentile(ans,confidence_intterval + (100-confidence_intterval)/2)\n",
    "    return [np.round(x1,2),np.round(x2,2)]"
   ]
  },
  {
   "cell_type": "code",
   "execution_count": 139,
   "id": "3de12799",
   "metadata": {},
   "outputs": [
    {
     "data": {
      "text/plain": [
       "[8368.97, 10545.83]"
      ]
     },
     "execution_count": 139,
     "metadata": {},
     "output_type": "execute_result"
    }
   ],
   "source": [
    "# Boot Strap method with sample size = 100 \n",
    "boot_strap_method(data = df_male['Purchase'], sample_size = 100,confidence_intterval = 95)"
   ]
  },
  {
   "cell_type": "code",
   "execution_count": 140,
   "id": "ed99b837",
   "metadata": {},
   "outputs": [
    {
     "data": {
      "text/plain": [
       "[9023.6, 9892.15]"
      ]
     },
     "execution_count": 140,
     "metadata": {},
     "output_type": "execute_result"
    }
   ],
   "source": [
    "# Boot Strap method with sample size = 500 \n",
    "boot_strap_method(data = df_male['Purchase'], sample_size = 500,confidence_intterval = 95)"
   ]
  },
  {
   "cell_type": "code",
   "execution_count": 141,
   "id": "8919c0d1",
   "metadata": {},
   "outputs": [
    {
     "data": {
      "text/plain": [
       "[9088.7, 9736.69]"
      ]
     },
     "execution_count": 141,
     "metadata": {},
     "output_type": "execute_result"
    }
   ],
   "source": [
    "# Boot Strap method with sample size = 1000 \n",
    "boot_strap_method(data = df_male['Purchase'], sample_size = 1000,confidence_intterval = 95)"
   ]
  },
  {
   "cell_type": "code",
   "execution_count": 142,
   "id": "3f5b4d22",
   "metadata": {},
   "outputs": [
    {
     "data": {
      "text/plain": [
       "[9261.03, 9619.54]"
      ]
     },
     "execution_count": 142,
     "metadata": {},
     "output_type": "execute_result"
    }
   ],
   "source": [
    "# Boot Strap method with sample size = 5000 \n",
    "boot_strap_method(data = df_male['Purchase'], sample_size = 3000,confidence_intterval = 95)"
   ]
  },
  {
   "cell_type": "code",
   "execution_count": 144,
   "id": "80889e8b",
   "metadata": {},
   "outputs": [
    {
     "data": {
      "text/plain": [
       "[9318.93, 9558.98]"
      ]
     },
     "execution_count": 144,
     "metadata": {},
     "output_type": "execute_result"
    }
   ],
   "source": [
    "# Boot Strap method with sample size = 7000 \n",
    "boot_strap_method(data = df_male['Purchase'], sample_size = 7000,confidence_intterval = 95)"
   ]
  },
  {
   "cell_type": "code",
   "execution_count": 145,
   "id": "56ff5e7f",
   "metadata": {},
   "outputs": [
    {
     "data": {
      "text/plain": [
       "[9332.16, 9536.3]"
      ]
     },
     "execution_count": 145,
     "metadata": {},
     "output_type": "execute_result"
    }
   ],
   "source": [
    "# Boot Strap method with sample size = 10000\n",
    "boot_strap_method(data = df_male['Purchase'], sample_size = 10000,confidence_intterval = 95)"
   ]
  },
  {
   "cell_type": "markdown",
   "id": "ca534156",
   "metadata": {},
   "source": [
    "- In Bootstrap method we observe that as sample size we increase the Confidence Interval becomes more accurate -> Confidence Interval becomes closer to the CI value got directly from norm.interval formula\n",
    "- 95% CI (Confidence Interval) we means that \" there is a 95% chance that the confidence interval [9422,9453] (approx) contains true population mean spend of male."
   ]
  },
  {
   "cell_type": "markdown",
   "id": "b448bdf3",
   "metadata": {},
   "source": [
    "### 95% Confidence Interval for Female Average Spends"
   ]
  },
  {
   "cell_type": "code",
   "execution_count": 148,
   "id": "82052f9c",
   "metadata": {},
   "outputs": [
    {
     "data": {
      "text/plain": [
       "(8709.21154714068, 8759.919983170272)"
      ]
     },
     "execution_count": 148,
     "metadata": {},
     "output_type": "execute_result"
    }
   ],
   "source": [
    "# Method 1 : Using Formula Directly \n",
    "norm.interval(alpha = 0.95, loc= df_female['Purchase'].mean() , scale = st.sem(df_female['Purchase'])) "
   ]
  },
  {
   "cell_type": "code",
   "execution_count": 155,
   "id": "7b5429d2",
   "metadata": {},
   "outputs": [
    {
     "name": "stdout",
     "output_type": "stream",
     "text": [
      "CI using Boot Strap method with sample size = 100  : [7832.21, 9748.58]\n",
      "CI using Boot Strap method with sample size = 500  : [8347.44, 9177.22]\n",
      "CI using Boot Strap method with sample size = 1000  : [8446.1, 9031.88]\n",
      "CI using Boot Strap method with sample size = 5000  : [8594.98, 8857.77]\n",
      "CI using Boot Strap method with sample size = 10000  : [8635.22, 8823.6]\n"
     ]
    }
   ],
   "source": [
    "# Method 2 : Bootstrapping Method \n",
    "\n",
    "print(\"CI using Boot Strap method with sample size = 100  :\",\n",
    "      boot_strap_method(data = df_female['Purchase'], sample_size = 100,confidence_intterval = 95) )\n",
    "\n",
    "print(\"CI using Boot Strap method with sample size = 500  :\",\n",
    "      boot_strap_method(data = df_female['Purchase'], sample_size = 500,confidence_intterval = 95) )\n",
    "\n",
    "print(\"CI using Boot Strap method with sample size = 1000  :\",\n",
    "      boot_strap_method(data = df_female['Purchase'], sample_size = 1000,confidence_intterval = 95) )\n",
    "\n",
    "print(\"CI using Boot Strap method with sample size = 5000  :\",\n",
    "      boot_strap_method(data = df_female['Purchase'], sample_size = 5000,confidence_intterval = 95) )\n",
    "\n",
    "print(\"CI using Boot Strap method with sample size = 10000  :\",\n",
    "      boot_strap_method(data = df_female['Purchase'], sample_size = 10000,confidence_intterval = 95) )"
   ]
  },
  {
   "cell_type": "markdown",
   "id": "4dbf2e4b",
   "metadata": {},
   "source": [
    "#### Observation 95%CI :\n",
    "- 95% CI for Male Average Spends  = [9422 , 9453]   ( Note : Have rounded the 2 decimal places in CI )\n",
    "- 95% CI for Female Average Spends= [8709 , 8760]   ( Note : Have rounded the 2 decimal places in CI )\n",
    "- There is a 95% chance that the confidence interval [9422,9453] contains true population mean spend of male.\n",
    "- There is a 95% chance that the confidence interval [8709 , 8760] contains true population mean spend of female.\n",
    "- So from this we can also conclude that male population average spends is more than spends of female as the CI interval of male has higher lower and upper paramters in 95% CI ap compared to femal 95% CI.\n",
    "- 95% Confidence intervals of average male and female spends are NOT OVERLAPPING"
   ]
  },
  {
   "cell_type": "markdown",
   "id": "b6d63bdb",
   "metadata": {},
   "source": [
    "### 90% Confidence Interval for Male and Female Average Spends"
   ]
  },
  {
   "cell_type": "code",
   "execution_count": 150,
   "id": "18916d07",
   "metadata": {},
   "outputs": [
    {
     "name": "stdout",
     "output_type": "stream",
     "text": [
      "90% CI for Male Average Spends : (9424.512497305488, 9450.539583639042)\n",
      "90% CI for Female Average Spends : (8713.287834648021, 8755.84369566293)\n"
     ]
    }
   ],
   "source": [
    "# Method 1 : Using Formula Directly \n",
    "print('90% CI for Male Average Spends :',\n",
    "      norm.interval(alpha = 0.90, loc= df_male['Purchase'].mean() , scale = st.sem(df_male['Purchase'])) )\n",
    "\n",
    "print('90% CI for Female Average Spends :',\n",
    "      norm.interval(alpha = 0.90, loc= df_female['Purchase'].mean() , scale = st.sem(df_female['Purchase'])) )"
   ]
  },
  {
   "cell_type": "code",
   "execution_count": 151,
   "id": "39c296e4",
   "metadata": {},
   "outputs": [
    {
     "name": "stdout",
     "output_type": "stream",
     "text": [
      "90% CI for Male Average Spends with different sample size :- \n",
      "CI using Boot Strap method with sample size = 100  : [8649.23, 10211.23]\n",
      "CI using Boot Strap method with sample size = 500  : [9079.34, 9801.68]\n",
      "CI using Boot Strap method with sample size = 1000  : [9179.88, 9711.25]\n",
      "CI using Boot Strap method with sample size = 5000  : [9316.32, 9550.75]\n",
      "CI using Boot Strap method with sample size = 10000  : [9352.01, 9517.78]\n",
      "\n",
      "\n",
      "90% CI for Female Average Spends with different sample size :- \n",
      "CI using Boot Strap method with sample size = 100  : [7937.0, 9575.46]\n",
      "CI using Boot Strap method with sample size = 500  : [8395.76, 9094.85]\n",
      "CI using Boot Strap method with sample size = 1000  : [8486.7, 8967.58]\n",
      "CI using Boot Strap method with sample size = 5000  : [8618.18, 8847.46]\n",
      "CI using Boot Strap method with sample size = 10000  : [8656.82, 8816.98]\n"
     ]
    }
   ],
   "source": [
    "# Method 2 : Bootstrapping Method \n",
    "print(\"90% CI for Male Average Spends with different sample size :- \")\n",
    "print(\"CI using Boot Strap method with sample size = 100  :\",\n",
    "      boot_strap_method(data = df_male['Purchase'], sample_size = 100,confidence_intterval = 90) )\n",
    "\n",
    "print(\"CI using Boot Strap method with sample size = 500  :\",\n",
    "      boot_strap_method(data = df_male['Purchase'], sample_size = 500,confidence_intterval = 90) )\n",
    "\n",
    "print(\"CI using Boot Strap method with sample size = 1000  :\",\n",
    "      boot_strap_method(data = df_male['Purchase'], sample_size = 1000,confidence_intterval = 90) )\n",
    "\n",
    "print(\"CI using Boot Strap method with sample size = 5000  :\",\n",
    "      boot_strap_method(data = df_male['Purchase'], sample_size = 5000,confidence_intterval = 90) )\n",
    "\n",
    "print(\"CI using Boot Strap method with sample size = 10000  :\",\n",
    "      boot_strap_method(data = df_male['Purchase'], sample_size = 10000,confidence_intterval = 90) )\n",
    "\n",
    "\n",
    "print(\"\\n\\n90% CI for Female Average Spends with different sample size :- \")\n",
    "print(\"CI using Boot Strap method with sample size = 100  :\",\n",
    "      boot_strap_method(data = df_female['Purchase'], sample_size = 100,confidence_intterval = 90) )\n",
    "\n",
    "print(\"CI using Boot Strap method with sample size = 500  :\",\n",
    "      boot_strap_method(data = df_female['Purchase'], sample_size = 500,confidence_intterval = 90) )\n",
    "\n",
    "print(\"CI using Boot Strap method with sample size = 1000  :\",\n",
    "      boot_strap_method(data = df_female['Purchase'], sample_size = 1000,confidence_intterval = 90) )\n",
    "\n",
    "print(\"CI using Boot Strap method with sample size = 5000  :\",\n",
    "      boot_strap_method(data = df_female['Purchase'], sample_size = 5000,confidence_intterval = 90) )\n",
    "\n",
    "print(\"CI using Boot Strap method with sample size = 10000  :\",\n",
    "      boot_strap_method(data = df_female['Purchase'], sample_size = 10000,confidence_intterval = 90) )"
   ]
  },
  {
   "cell_type": "markdown",
   "id": "79084c2a",
   "metadata": {},
   "source": [
    "#### Observation 90%CI :\n",
    "- 90% CI for Male Average Spends  = [9424 , 9450]   ( Note : Have rounded the 2 decimal places in CI )\n",
    "- 90% CI for Female Average Spends= [8713 , 8756]   ( Note : Have rounded the 2 decimal places in CI )\n",
    "- There is a 90% chance that the confidence interval [9424 , 9450] contains true population mean spend of male.\n",
    "- There is a 90% chance that the confidence interval [8713 , 8756] contains true population mean spend of female.\n",
    "- So from this we can also conclude that male population average spends is more than spends of female as the CI interval of male has higher lower and upper paramters in 90% CI ap compared to femal 90% CI.\n",
    "- 90% Confidence intervals of average male and female spends are NOT OVERLAPPING"
   ]
  },
  {
   "cell_type": "markdown",
   "id": "72a5efb9",
   "metadata": {},
   "source": [
    "### 99% Confidence Interval for Male and Female Average Spends"
   ]
  },
  {
   "cell_type": "code",
   "execution_count": 156,
   "id": "077c20ca",
   "metadata": {},
   "outputs": [
    {
     "name": "stdout",
     "output_type": "stream",
     "text": [
      "90% CI for Male Average Spends : (9417.146922669479, 9457.90515827505)\n",
      "90% CI for Female Average Spends : (8701.244674438389, 8767.886855872563)\n"
     ]
    }
   ],
   "source": [
    "# Method 1 : Using Formula Directly \n",
    "print('90% CI for Male Average Spends :',\n",
    "      norm.interval(alpha = 0.99, loc= df_male['Purchase'].mean() , scale = st.sem(df_male['Purchase'])) )\n",
    "\n",
    "print('90% CI for Female Average Spends :',\n",
    "      norm.interval(alpha = 0.99, loc= df_female['Purchase'].mean() , scale = st.sem(df_female['Purchase'])) )"
   ]
  },
  {
   "cell_type": "code",
   "execution_count": 157,
   "id": "79ca63f3",
   "metadata": {},
   "outputs": [
    {
     "name": "stdout",
     "output_type": "stream",
     "text": [
      "99% CI for Male Average Spends with different sample size :- \n",
      "CI using Boot Strap method with sample size = 100  : [8230.15, 10743.64]\n",
      "CI using Boot Strap method with sample size = 500  : [8874.86, 10064.24]\n",
      "CI using Boot Strap method with sample size = 1000  : [9071.23, 9881.38]\n",
      "CI using Boot Strap method with sample size = 5000  : [9250.52, 9647.12]\n",
      "CI using Boot Strap method with sample size = 10000  : [9307.2, 9574.07]\n",
      "\n",
      "\n",
      "99% CI for Female Average Spends with different sample size :- \n",
      "CI using Boot Strap method with sample size = 100  : [7526.19, 9955.32]\n",
      "CI using Boot Strap method with sample size = 500  : [8143.18, 9270.51]\n",
      "CI using Boot Strap method with sample size = 1000  : [8362.94, 9102.09]\n",
      "CI using Boot Strap method with sample size = 5000  : [8564.02, 8895.8]\n",
      "CI using Boot Strap method with sample size = 10000  : [8616.12, 8847.03]\n"
     ]
    }
   ],
   "source": [
    "# Method 2 : Bootstrapping Method \n",
    "print(\"99% CI for Male Average Spends with different sample size :- \")\n",
    "print(\"CI using Boot Strap method with sample size = 100  :\",\n",
    "      boot_strap_method(data = df_male['Purchase'], sample_size = 100,confidence_intterval = 99) )\n",
    "\n",
    "print(\"CI using Boot Strap method with sample size = 500  :\",\n",
    "      boot_strap_method(data = df_male['Purchase'], sample_size = 500,confidence_intterval = 99) )\n",
    "\n",
    "print(\"CI using Boot Strap method with sample size = 1000  :\",\n",
    "      boot_strap_method(data = df_male['Purchase'], sample_size = 1000,confidence_intterval = 99) )\n",
    "\n",
    "print(\"CI using Boot Strap method with sample size = 5000  :\",\n",
    "      boot_strap_method(data = df_male['Purchase'], sample_size = 5000,confidence_intterval = 99) )\n",
    "\n",
    "print(\"CI using Boot Strap method with sample size = 10000  :\",\n",
    "      boot_strap_method(data = df_male['Purchase'], sample_size = 10000,confidence_intterval = 99) )\n",
    "\n",
    "\n",
    "print(\"\\n\\n99% CI for Female Average Spends with different sample size :- \")\n",
    "print(\"CI using Boot Strap method with sample size = 100  :\",\n",
    "      boot_strap_method(data = df_female['Purchase'], sample_size = 100,confidence_intterval = 99) )\n",
    "\n",
    "print(\"CI using Boot Strap method with sample size = 500  :\",\n",
    "      boot_strap_method(data = df_female['Purchase'], sample_size = 500,confidence_intterval = 99) )\n",
    "\n",
    "print(\"CI using Boot Strap method with sample size = 1000  :\",\n",
    "      boot_strap_method(data = df_female['Purchase'], sample_size = 1000,confidence_intterval = 99) )\n",
    "\n",
    "print(\"CI using Boot Strap method with sample size = 5000  :\",\n",
    "      boot_strap_method(data = df_female['Purchase'], sample_size = 5000,confidence_intterval = 99) )\n",
    "\n",
    "print(\"CI using Boot Strap method with sample size = 10000  :\",\n",
    "      boot_strap_method(data = df_female['Purchase'], sample_size = 10000,confidence_intterval = 99) )"
   ]
  },
  {
   "cell_type": "markdown",
   "id": "e7b9712f",
   "metadata": {},
   "source": [
    "#### Observation 99%CI :\n",
    "- 99% CI for Male Average Spends  = [9417 , 9458]   ( Note : Have rounded the 2 decimal places in CI )\n",
    "- 99% CI for Female Average Spends= [8701 , 8768]   ( Note : Have rounded the 2 decimal places in CI )\n",
    "- There is a 99% chance that the confidence interval [9417 , 9458]  contains true population mean spend of male.\n",
    "- There is a 99% chance that the confidence interval [8701 , 8768] contains true population mean spend of female.\n",
    "- So from this we can also conclude that male population average spends is more than spends of female as the CI interval of male has higher lower and upper paramters in 99% CI ap compared to femal 99% CI.\n",
    "- 99% Confidence intervals of average male and female spends are NOT OVERLAPPING"
   ]
  },
  {
   "cell_type": "markdown",
   "id": "e68bbd65",
   "metadata": {},
   "source": [
    "## 4. Data exploration - Marital Status Data"
   ]
  },
  {
   "cell_type": "code",
   "execution_count": 158,
   "id": "c78a560e",
   "metadata": {},
   "outputs": [
    {
     "data": {
      "text/plain": [
       "0    324731\n",
       "1    225337\n",
       "Name: Marital_Status, dtype: int64"
      ]
     },
     "execution_count": 158,
     "metadata": {},
     "output_type": "execute_result"
    }
   ],
   "source": [
    "df['Marital_Status'].value_counts()"
   ]
  },
  {
   "cell_type": "code",
   "execution_count": 159,
   "id": "ca16073a",
   "metadata": {},
   "outputs": [],
   "source": [
    "# Marital Status Column has value 0 and 1 . Considering 0 as 'Single' / 'Unmarried' Marital Status and \n",
    "# 1 as 'Partnered'/'Married' Marital Status\n",
    "df_single    = df.loc[df['Marital_Status'] ==  0,: ]\n",
    "df_partnered = df.loc[df['Marital_Status'] ==  1,: ]"
   ]
  },
  {
   "cell_type": "code",
   "execution_count": 160,
   "id": "15c5d36b",
   "metadata": {},
   "outputs": [
    {
     "data": {
      "text/plain": [
       "(324731, 10)"
      ]
     },
     "execution_count": 160,
     "metadata": {},
     "output_type": "execute_result"
    }
   ],
   "source": [
    "df_single.shape"
   ]
  },
  {
   "cell_type": "code",
   "execution_count": 161,
   "id": "1133c0fb",
   "metadata": {},
   "outputs": [
    {
     "data": {
      "text/plain": [
       "(225337, 10)"
      ]
     },
     "execution_count": 161,
     "metadata": {},
     "output_type": "execute_result"
    }
   ],
   "source": [
    "df_partnered.shape"
   ]
  },
  {
   "cell_type": "code",
   "execution_count": 162,
   "id": "6e8d8223",
   "metadata": {},
   "outputs": [
    {
     "data": {
      "text/plain": [
       "9265.907618921507"
      ]
     },
     "execution_count": 162,
     "metadata": {},
     "output_type": "execute_result"
    }
   ],
   "source": [
    "# Average Single Marital Status Expense\n",
    "df_single['Purchase'].mean()"
   ]
  },
  {
   "cell_type": "code",
   "execution_count": 163,
   "id": "d48e11e6",
   "metadata": {},
   "outputs": [
    {
     "data": {
      "text/plain": [
       "9261.174574082374"
      ]
     },
     "execution_count": 163,
     "metadata": {},
     "output_type": "execute_result"
    }
   ],
   "source": [
    "# Average Partnered Marital Status Expense\n",
    "df_partnered['Purchase'].mean()"
   ]
  },
  {
   "cell_type": "markdown",
   "id": "4ce56dd8",
   "metadata": {},
   "source": [
    "### 90% Confidence Interval for Single and Partnered Marital Status Spends"
   ]
  },
  {
   "cell_type": "code",
   "execution_count": 164,
   "id": "5be805e1",
   "metadata": {},
   "outputs": [
    {
     "name": "stdout",
     "output_type": "stream",
     "text": [
      "90% CI for Single Marital Status Average Spends : (9251.396385823671, 9280.418852019342)\n",
      "90% CI for Partnered Marital Status Average Spends : (9243.790713903045, 9278.558434261702)\n"
     ]
    }
   ],
   "source": [
    "# Method 1 : Using Formula Directly \n",
    "print('90% CI for Single Marital Status Average Spends :',\n",
    "      norm.interval(alpha = 0.90, loc= df_single['Purchase'].mean() , scale = st.sem(df_single['Purchase'])) )\n",
    "\n",
    "print('90% CI for Partnered Marital Status Average Spends :',\n",
    "      norm.interval(alpha = 0.90, loc= df_partnered['Purchase'].mean() , scale = st.sem(df_partnered['Purchase'])) )"
   ]
  },
  {
   "cell_type": "code",
   "execution_count": 165,
   "id": "57ce0fbf",
   "metadata": {},
   "outputs": [
    {
     "name": "stdout",
     "output_type": "stream",
     "text": [
      "90% CI for Single Marital Status Average Spends with different sample size :- \n",
      "CI using Boot Strap method with sample size = 100  : [8393.48, 10040.58]\n",
      "CI using Boot Strap method with sample size = 500  : [8886.58, 9639.42]\n",
      "CI using Boot Strap method with sample size = 1000  : [9014.44, 9547.21]\n",
      "CI using Boot Strap method with sample size = 5000  : [9155.89, 9382.96]\n",
      "CI using Boot Strap method with sample size = 10000  : [9183.29, 9345.18]\n",
      "\n",
      "\n",
      "90% CI for Partnered Marital Status Average Spends with different sample size :- \n",
      "CI using Boot Strap method with sample size = 100  : [8443.55, 10166.49]\n",
      "CI using Boot Strap method with sample size = 500  : [8890.89, 9609.69]\n",
      "CI using Boot Strap method with sample size = 1000  : [9001.34, 9531.11]\n",
      "CI using Boot Strap method with sample size = 5000  : [9148.53, 9379.13]\n",
      "CI using Boot Strap method with sample size = 10000  : [9179.59, 9343.38]\n"
     ]
    }
   ],
   "source": [
    "# Method 2 : Bootstrapping Method \n",
    "print(\"90% CI for Single Marital Status Average Spends with different sample size :- \")\n",
    "print(\"CI using Boot Strap method with sample size = 100  :\",\n",
    "      boot_strap_method(data = df_single['Purchase'], sample_size = 100,confidence_intterval = 90) )\n",
    "\n",
    "print(\"CI using Boot Strap method with sample size = 500  :\",\n",
    "      boot_strap_method(data = df_single['Purchase'], sample_size = 500,confidence_intterval = 90) )\n",
    "\n",
    "print(\"CI using Boot Strap method with sample size = 1000  :\",\n",
    "      boot_strap_method(data = df_single['Purchase'], sample_size = 1000,confidence_intterval = 90) )\n",
    "\n",
    "print(\"CI using Boot Strap method with sample size = 5000  :\",\n",
    "      boot_strap_method(data = df_single['Purchase'], sample_size = 5000,confidence_intterval = 90) )\n",
    "\n",
    "print(\"CI using Boot Strap method with sample size = 10000  :\",\n",
    "      boot_strap_method(data = df_single['Purchase'], sample_size = 10000,confidence_intterval = 90) )\n",
    "\n",
    "\n",
    "print(\"\\n\\n90% CI for Partnered Marital Status Average Spends with different sample size :- \")\n",
    "print(\"CI using Boot Strap method with sample size = 100  :\",\n",
    "      boot_strap_method(data = df_partnered['Purchase'], sample_size = 100,confidence_intterval = 90) )\n",
    "\n",
    "print(\"CI using Boot Strap method with sample size = 500  :\",\n",
    "      boot_strap_method(data = df_partnered['Purchase'], sample_size = 500,confidence_intterval = 90) )\n",
    "\n",
    "print(\"CI using Boot Strap method with sample size = 1000  :\",\n",
    "      boot_strap_method(data = df_partnered['Purchase'], sample_size = 1000,confidence_intterval = 90) )\n",
    "\n",
    "print(\"CI using Boot Strap method with sample size = 5000  :\",\n",
    "      boot_strap_method(data = df_partnered['Purchase'], sample_size = 5000,confidence_intterval = 90) )\n",
    "\n",
    "print(\"CI using Boot Strap method with sample size = 10000  :\",\n",
    "      boot_strap_method(data = df_partnered['Purchase'], sample_size = 10000,confidence_intterval = 90) )"
   ]
  },
  {
   "cell_type": "markdown",
   "id": "8a5c7b1f",
   "metadata": {},
   "source": [
    "#### Observation 90%CI :\n",
    "- 90% CI for Single Status Average Spends  = [9252 , 9281]   ( Note : Have rounded the 2 decimal places in CI )\n",
    "- 90% CI for Partnered Average Spends= [9244, 9278]   ( Note : Have rounded the 2 decimal places in CI )\n",
    "- There is a 90% chance that the confidence interval [9252 , 9281]  contains true population mean spend of Single Marital Status people.\n",
    "- There is a 90% chance that the confidence interval [9244, 9278]contains true population mean spend of Partnered Marital Status people.\n",
    "- So from this we can also conclude that Single Marital Status population average spends is slightly more than spends of Partnered Marital Status people as the CI interval of Single status people has higher lower and upper paramters in 90% CI ap compared to Partnered Marital Status 90% CI.\n",
    "- 90% Confidence intervals of average spends of Single and Partnered marital status people ARE OVERLAPPING in average spends range of (9252,9278)"
   ]
  },
  {
   "cell_type": "markdown",
   "id": "c51626d3",
   "metadata": {},
   "source": [
    "### 95% Confidence Interval for Single and Partnered Marital Status Spends"
   ]
  },
  {
   "cell_type": "code",
   "execution_count": 166,
   "id": "6547f193",
   "metadata": {},
   "outputs": [
    {
     "name": "stdout",
     "output_type": "stream",
     "text": [
      "95% CI for Single Marital Status Average Spends : (9248.61641818668, 9283.198819656332)\n",
      "95% CI for Partnered Marital Status Average Spends : (9240.460427057078, 9281.888721107669)\n"
     ]
    }
   ],
   "source": [
    "# Method 1 : Using Formula Directly \n",
    "print('95% CI for Single Marital Status Average Spends :',\n",
    "      norm.interval(alpha = 0.95, loc= df_single['Purchase'].mean() , scale = st.sem(df_single['Purchase'])) )\n",
    "\n",
    "print('95% CI for Partnered Marital Status Average Spends :',\n",
    "      norm.interval(alpha = 0.95, loc= df_partnered['Purchase'].mean() , scale = st.sem(df_partnered['Purchase'])) )"
   ]
  },
  {
   "cell_type": "code",
   "execution_count": 167,
   "id": "dcf8ed31",
   "metadata": {},
   "outputs": [
    {
     "name": "stdout",
     "output_type": "stream",
     "text": [
      "95% CI for Single Marital Status Average Spends with different sample size :- \n",
      "CI using Boot Strap method with sample size = 100  : [8300.06, 10205.78]\n",
      "CI using Boot Strap method with sample size = 500  : [8831.29, 9733.72]\n",
      "CI using Boot Strap method with sample size = 1000  : [8963.47, 9615.22]\n",
      "CI using Boot Strap method with sample size = 5000  : [9128.9, 9400.9]\n",
      "CI using Boot Strap method with sample size = 10000  : [9158.01, 9371.43]\n",
      "\n",
      "\n",
      "95% CI for Partnered Marital Status Average Spends with different sample size :- \n",
      "CI using Boot Strap method with sample size = 100  : [8272.57, 10263.51]\n",
      "CI using Boot Strap method with sample size = 500  : [8795.22, 9685.16]\n",
      "CI using Boot Strap method with sample size = 1000  : [8956.7, 9567.72]\n",
      "CI using Boot Strap method with sample size = 5000  : [9124.35, 9406.23]\n",
      "CI using Boot Strap method with sample size = 10000  : [9161.5, 9357.99]\n"
     ]
    }
   ],
   "source": [
    "# Method 2 : Bootstrapping Method \n",
    "print(\"95% CI for Single Marital Status Average Spends with different sample size :- \")\n",
    "print(\"CI using Boot Strap method with sample size = 100  :\",\n",
    "      boot_strap_method(data = df_single['Purchase'], sample_size = 100,confidence_intterval = 95) )\n",
    "\n",
    "print(\"CI using Boot Strap method with sample size = 500  :\",\n",
    "      boot_strap_method(data = df_single['Purchase'], sample_size = 500,confidence_intterval = 95) )\n",
    "\n",
    "print(\"CI using Boot Strap method with sample size = 1000  :\",\n",
    "      boot_strap_method(data = df_single['Purchase'], sample_size = 1000,confidence_intterval = 95) )\n",
    "\n",
    "print(\"CI using Boot Strap method with sample size = 5000  :\",\n",
    "      boot_strap_method(data = df_single['Purchase'], sample_size = 5000,confidence_intterval = 95) )\n",
    "\n",
    "print(\"CI using Boot Strap method with sample size = 10000  :\",\n",
    "      boot_strap_method(data = df_single['Purchase'], sample_size = 10000,confidence_intterval = 95) )\n",
    "\n",
    "\n",
    "print(\"\\n\\n95% CI for Partnered Marital Status Average Spends with different sample size :- \")\n",
    "print(\"CI using Boot Strap method with sample size = 100  :\",\n",
    "      boot_strap_method(data = df_partnered['Purchase'], sample_size = 100,confidence_intterval = 95) )\n",
    "\n",
    "print(\"CI using Boot Strap method with sample size = 500  :\",\n",
    "      boot_strap_method(data = df_partnered['Purchase'], sample_size = 500,confidence_intterval = 95) )\n",
    "\n",
    "print(\"CI using Boot Strap method with sample size = 1000  :\",\n",
    "      boot_strap_method(data = df_partnered['Purchase'], sample_size = 1000,confidence_intterval = 95) )\n",
    "\n",
    "print(\"CI using Boot Strap method with sample size = 5000  :\",\n",
    "      boot_strap_method(data = df_partnered['Purchase'], sample_size = 5000,confidence_intterval = 95) )\n",
    "\n",
    "print(\"CI using Boot Strap method with sample size = 10000  :\",\n",
    "      boot_strap_method(data = df_partnered['Purchase'], sample_size = 10000,confidence_intterval = 95) )"
   ]
  },
  {
   "cell_type": "markdown",
   "id": "b891c4f4",
   "metadata": {},
   "source": [
    "#### Observation 95%CI :\n",
    "- 95% CI for Single Status Average Spends  = [9249 , 9283]   ( Note : Have rounded the 2 decimal places in CI )\n",
    "- 95% CI for Partnered Average Spends= [9240, 9282]   ( Note : Have rounded the 2 decimal places in CI )\n",
    "- There is a 95% chance that the confidence interval [9249 , 9283]  contains true population mean spend of Single Marital Status customer.\n",
    "- There is a 95% chance that the confidence interval [9240, 9282] contains true population mean spend of Partnered Marital Status customer.\n",
    "- So from this we can also conclude that Single Marital Status population average spends is slightly more than spends of Partnered Marital Status people as the CI interval of Single status people has higher lower and upper paramters in 95% CI ap compared to Partnered Marital Status  95% CI.\n",
    "- 95% Confidence intervals of average spends of Single and Partnered marital status customers ARE OVERLAPPING in average spends range of (9249,9282)"
   ]
  },
  {
   "cell_type": "markdown",
   "id": "a41caa18",
   "metadata": {},
   "source": [
    "### 99% Confidence Interval for Single and Partnered Marital Status Spends"
   ]
  },
  {
   "cell_type": "code",
   "execution_count": 168,
   "id": "1190214e",
   "metadata": {},
   "outputs": [
    {
     "name": "stdout",
     "output_type": "stream",
     "text": [
      "99% CI for Single Marital Status Average Spends : (9243.183129136169, 9288.632108706845)\n",
      "99% CI for Partnered Marital Status Average Spends : (9233.951570329937, 9288.39757783481)\n"
     ]
    }
   ],
   "source": [
    "# Method 1 : Using Formula Directly \n",
    "print('99% CI for Single Marital Status Average Spends :',\n",
    "      norm.interval(alpha = 0.99, loc= df_single['Purchase'].mean() , scale = st.sem(df_single['Purchase'])) )\n",
    "\n",
    "print('99% CI for Partnered Marital Status Average Spends :',\n",
    "      norm.interval(alpha = 0.99, loc= df_partnered['Purchase'].mean() , scale = st.sem(df_partnered['Purchase'])) )"
   ]
  },
  {
   "cell_type": "code",
   "execution_count": 169,
   "id": "b39cca35",
   "metadata": {},
   "outputs": [
    {
     "name": "stdout",
     "output_type": "stream",
     "text": [
      "99% CI for Single Marital Status Average Spends with different sample size :- \n",
      "CI using Boot Strap method with sample size = 100  : [8026.78, 10589.32]\n",
      "CI using Boot Strap method with sample size = 500  : [8694.05, 9912.02]\n",
      "CI using Boot Strap method with sample size = 1000  : [8817.22, 9658.68]\n",
      "CI using Boot Strap method with sample size = 5000  : [9093.61, 9434.06]\n",
      "CI using Boot Strap method with sample size = 10000  : [9136.05, 9391.02]\n",
      "\n",
      "\n",
      "99% CI for Partnered Marital Status Average Spends with different sample size :- \n",
      "CI using Boot Strap method with sample size = 100  : [8018.89, 10467.19]\n",
      "CI using Boot Strap method with sample size = 500  : [8653.61, 9798.54]\n",
      "CI using Boot Strap method with sample size = 1000  : [8848.88, 9672.66]\n",
      "CI using Boot Strap method with sample size = 5000  : [9086.43, 9441.24]\n",
      "CI using Boot Strap method with sample size = 10000  : [9134.47, 9398.49]\n"
     ]
    }
   ],
   "source": [
    "# Method 2 : Bootstrapping Method \n",
    "print(\"99% CI for Single Marital Status Average Spends with different sample size :- \")\n",
    "print(\"CI using Boot Strap method with sample size = 100  :\",\n",
    "      boot_strap_method(data = df_single['Purchase'], sample_size = 100,confidence_intterval = 99) )\n",
    "\n",
    "print(\"CI using Boot Strap method with sample size = 500  :\",\n",
    "      boot_strap_method(data = df_single['Purchase'], sample_size = 500,confidence_intterval = 99) )\n",
    "\n",
    "print(\"CI using Boot Strap method with sample size = 1000  :\",\n",
    "      boot_strap_method(data = df_single['Purchase'], sample_size = 1000,confidence_intterval = 99) )\n",
    "\n",
    "print(\"CI using Boot Strap method with sample size = 5000  :\",\n",
    "      boot_strap_method(data = df_single['Purchase'], sample_size = 5000,confidence_intterval = 99) )\n",
    "\n",
    "print(\"CI using Boot Strap method with sample size = 10000  :\",\n",
    "      boot_strap_method(data = df_single['Purchase'], sample_size = 10000,confidence_intterval = 99) )\n",
    "\n",
    "\n",
    "print(\"\\n\\n99% CI for Partnered Marital Status Average Spends with different sample size :- \")\n",
    "print(\"CI using Boot Strap method with sample size = 100  :\",\n",
    "      boot_strap_method(data = df_partnered['Purchase'], sample_size = 100,confidence_intterval = 99) )\n",
    "\n",
    "print(\"CI using Boot Strap method with sample size = 500  :\",\n",
    "      boot_strap_method(data = df_partnered['Purchase'], sample_size = 500,confidence_intterval = 99) )\n",
    "\n",
    "print(\"CI using Boot Strap method with sample size = 1000  :\",\n",
    "      boot_strap_method(data = df_partnered['Purchase'], sample_size = 1000,confidence_intterval = 99) )\n",
    "\n",
    "print(\"CI using Boot Strap method with sample size = 5000  :\",\n",
    "      boot_strap_method(data = df_partnered['Purchase'], sample_size = 5000,confidence_intterval = 99) )\n",
    "\n",
    "print(\"CI using Boot Strap method with sample size = 10000  :\",\n",
    "      boot_strap_method(data = df_partnered['Purchase'], sample_size = 10000,confidence_intterval = 99) )"
   ]
  },
  {
   "cell_type": "markdown",
   "id": "cb21e44c",
   "metadata": {},
   "source": [
    "#### Observation 99%CI :\n",
    "- 99% CI for Single Status Average Spends  = [9243 , 9288]   ( Note : Have rounded the 2 decimal places in CI )\n",
    "- 99% CI for Partnered Average Spends= [9234, 9289]   ( Note : Have rounded the 2 decimal places in CI )\n",
    "- There is a 99% chance that the confidence interval [9243 , 9288]  contains true population mean spend of Single Marital Status customer.\n",
    "- There is a 99% chance that the confidence interval [9234, 9289]  contains true population mean spend of Partnered Marital Status customer.\n",
    "- So from this we can also conclude that Single Marital Status population average spends is slightly more than spends of Partnered Marital Status people as the CI interval of Single status people has higher lower paramters in 99% CI ap compared to Partnered Marital Status 99% CI.\n",
    "- 99% Confidence intervals of average spends of Single and Partnered marital status customers ARE OVERLAPPING in average spends range of (9243,9288)"
   ]
  },
  {
   "cell_type": "markdown",
   "id": "43d90b2f",
   "metadata": {},
   "source": [
    "## 5. Data exploration - Age"
   ]
  },
  {
   "cell_type": "code",
   "execution_count": 170,
   "id": "c98d3f65",
   "metadata": {},
   "outputs": [
    {
     "data": {
      "text/plain": [
       "26-35    219587\n",
       "36-45    110013\n",
       "18-25     99660\n",
       "46-50     45701\n",
       "51-55     38501\n",
       "55+       21504\n",
       "0-17      15102\n",
       "Name: Age, dtype: int64"
      ]
     },
     "execution_count": 170,
     "metadata": {},
     "output_type": "execute_result"
    }
   ],
   "source": [
    "# There are 7 age groups / categories in Age column\n",
    "df['Age'].value_counts()"
   ]
  },
  {
   "cell_type": "code",
   "execution_count": 171,
   "id": "ef008b5a",
   "metadata": {},
   "outputs": [],
   "source": [
    "df_26_to_35    = df.loc[df['Age'] ==  '26-35',: ]\n",
    "df_36_to_45    = df.loc[df['Age'] ==  '36-45',: ]\n",
    "df_18_to_25    = df.loc[df['Age'] ==  '18-25',: ]\n",
    "df_46_to_50    = df.loc[df['Age'] ==  '46-50',: ]\n",
    "df_51_to_55    = df.loc[df['Age'] ==  '51-55',: ]\n",
    "df_55_plus     = df.loc[df['Age'] ==  '55+',: ]\n",
    "df_0_to_17     = df.loc[df['Age'] ==  '0-17',: ]"
   ]
  },
  {
   "cell_type": "code",
   "execution_count": 172,
   "id": "82c3a62b",
   "metadata": {},
   "outputs": [
    {
     "name": "stdout",
     "output_type": "stream",
     "text": [
      "Mean = 9252.690632869888\n"
     ]
    },
    {
     "data": {
      "text/plain": [
       "(219587, 10)"
      ]
     },
     "execution_count": 172,
     "metadata": {},
     "output_type": "execute_result"
    }
   ],
   "source": [
    "print('Mean =', df_26_to_35['Purchase'].mean())\n",
    "df_26_to_35.shape"
   ]
  },
  {
   "cell_type": "code",
   "execution_count": 173,
   "id": "2c6bf823",
   "metadata": {},
   "outputs": [
    {
     "name": "stdout",
     "output_type": "stream",
     "text": [
      "Mean = 9331.350694917874\n"
     ]
    },
    {
     "data": {
      "text/plain": [
       "(110013, 10)"
      ]
     },
     "execution_count": 173,
     "metadata": {},
     "output_type": "execute_result"
    }
   ],
   "source": [
    "print('Mean =', df_36_to_45['Purchase'].mean())\n",
    "df_36_to_45.shape"
   ]
  },
  {
   "cell_type": "code",
   "execution_count": 174,
   "id": "751a266e",
   "metadata": {},
   "outputs": [
    {
     "name": "stdout",
     "output_type": "stream",
     "text": [
      "Mean = 9169.663606261289\n"
     ]
    },
    {
     "data": {
      "text/plain": [
       "(99660, 10)"
      ]
     },
     "execution_count": 174,
     "metadata": {},
     "output_type": "execute_result"
    }
   ],
   "source": [
    "print('Mean =', df_18_to_25['Purchase'].mean())\n",
    "df_18_to_25.shape"
   ]
  },
  {
   "cell_type": "code",
   "execution_count": 175,
   "id": "5c13f1d7",
   "metadata": {},
   "outputs": [
    {
     "name": "stdout",
     "output_type": "stream",
     "text": [
      "Mean = 9208.625697468327\n"
     ]
    },
    {
     "data": {
      "text/plain": [
       "(45701, 10)"
      ]
     },
     "execution_count": 175,
     "metadata": {},
     "output_type": "execute_result"
    }
   ],
   "source": [
    "print('Mean =', df_46_to_50['Purchase'].mean())\n",
    "df_46_to_50.shape"
   ]
  },
  {
   "cell_type": "code",
   "execution_count": 176,
   "id": "e60ab4f9",
   "metadata": {},
   "outputs": [
    {
     "name": "stdout",
     "output_type": "stream",
     "text": [
      "Mean = 9534.808030960236\n"
     ]
    },
    {
     "data": {
      "text/plain": [
       "(38501, 10)"
      ]
     },
     "execution_count": 176,
     "metadata": {},
     "output_type": "execute_result"
    }
   ],
   "source": [
    "print('Mean =', df_51_to_55['Purchase'].mean())\n",
    "df_51_to_55.shape"
   ]
  },
  {
   "cell_type": "code",
   "execution_count": 177,
   "id": "4fcc8b7e",
   "metadata": {},
   "outputs": [
    {
     "name": "stdout",
     "output_type": "stream",
     "text": [
      "Mean = 9336.280459449405\n"
     ]
    },
    {
     "data": {
      "text/plain": [
       "(21504, 10)"
      ]
     },
     "execution_count": 177,
     "metadata": {},
     "output_type": "execute_result"
    }
   ],
   "source": [
    "print('Mean =', df_55_plus['Purchase'].mean())\n",
    "df_55_plus.shape"
   ]
  },
  {
   "cell_type": "code",
   "execution_count": 178,
   "id": "f6157b74",
   "metadata": {},
   "outputs": [
    {
     "name": "stdout",
     "output_type": "stream",
     "text": [
      "Mean = 8933.464640444974\n"
     ]
    },
    {
     "data": {
      "text/plain": [
       "(15102, 10)"
      ]
     },
     "execution_count": 178,
     "metadata": {},
     "output_type": "execute_result"
    }
   ],
   "source": [
    "print('Mean =', df_0_to_17['Purchase'].mean())\n",
    "df_0_to_17.shape"
   ]
  },
  {
   "cell_type": "markdown",
   "id": "9c4338bb",
   "metadata": {},
   "source": [
    "### 90% Confidence Interval for each Age Group average Spends"
   ]
  },
  {
   "cell_type": "code",
   "execution_count": 179,
   "id": "98e09d46",
   "metadata": {},
   "outputs": [
    {
     "name": "stdout",
     "output_type": "stream",
     "text": [
      "90% CI for Age Group 26-35 Average Spends: (9235.103000581124, 9270.278265158651)\n",
      "90% CI for Age Group 36-45 Average Spends: (9306.441376202305, 9356.260013633442)\n",
      "90% CI for Age Group 18-25 Average Spends: (9143.433031607847, 9195.89418091473)\n",
      "90% CI for Age Group 46-50 Average Spends: (9170.406859081895, 9246.84453585476)\n",
      "90% CI for Age Group 51-55 Average Spends: (9492.161430973249, 9577.454630947223)\n",
      "90% CI for Age Group 55+ Average Spends: (9280.067707714425, 9392.493211184385)\n",
      "90% CI for Age Group 0-17 Average Spends: (8865.053694527898, 9001.87558636205)\n"
     ]
    }
   ],
   "source": [
    "# Method 1 : Using Formula Directly \n",
    "age_groups = df['Age'].value_counts().index\n",
    "for i in age_groups:\n",
    "    data = df.loc[df['Age'] == i,'Purchase']\n",
    "    print('90% CI for Age Group '+i+' Average Spends:',\n",
    "          norm.interval(alpha = 0.90, loc= data.mean() , scale = st.sem(data)) )"
   ]
  },
  {
   "cell_type": "code",
   "execution_count": 180,
   "id": "dcac9fca",
   "metadata": {},
   "outputs": [
    {
     "name": "stdout",
     "output_type": "stream",
     "text": [
      "For Age Group  26-35\n",
      "CI using Boot Strap method with sample size = 100  : [8416.81, 10121.22]\n",
      "CI using Boot Strap method with sample size = 500  : [8897.33, 9613.49]\n",
      "CI using Boot Strap method with sample size = 1000  : [9007.09, 9517.34]\n",
      "CI using Boot Strap method with sample size = 5000  : [9136.22, 9368.88]\n",
      "CI using Boot Strap method with sample size = 7000  : [9158.39, 9355.08]\n",
      "CI using Boot Strap method with sample size = 10000  : [9169.36, 9341.09]\n",
      "\n",
      "\n",
      "For Age Group  36-45\n",
      "CI using Boot Strap method with sample size = 100  : [8507.42, 10171.62]\n",
      "CI using Boot Strap method with sample size = 500  : [8936.38, 9725.91]\n",
      "CI using Boot Strap method with sample size = 1000  : [9075.86, 9601.94]\n",
      "CI using Boot Strap method with sample size = 5000  : [9221.85, 9447.65]\n",
      "CI using Boot Strap method with sample size = 7000  : [9234.11, 9429.0]\n",
      "CI using Boot Strap method with sample size = 10000  : [9250.41, 9411.92]\n",
      "\n",
      "\n",
      "For Age Group  18-25\n",
      "CI using Boot Strap method with sample size = 100  : [8294.29, 10025.26]\n",
      "CI using Boot Strap method with sample size = 500  : [8810.42, 9529.23]\n",
      "CI using Boot Strap method with sample size = 1000  : [8903.47, 9414.36]\n",
      "CI using Boot Strap method with sample size = 5000  : [9052.59, 9284.24]\n",
      "CI using Boot Strap method with sample size = 7000  : [9070.76, 9262.35]\n",
      "CI using Boot Strap method with sample size = 10000  : [9085.51, 9250.75]\n",
      "\n",
      "\n",
      "For Age Group  46-50\n",
      "CI using Boot Strap method with sample size = 100  : [8346.92, 10015.14]\n",
      "CI using Boot Strap method with sample size = 500  : [8895.05, 9606.2]\n",
      "CI using Boot Strap method with sample size = 1000  : [8947.79, 9447.11]\n",
      "CI using Boot Strap method with sample size = 5000  : [9086.62, 9326.57]\n",
      "CI using Boot Strap method with sample size = 7000  : [9114.25, 9304.5]\n",
      "CI using Boot Strap method with sample size = 10000  : [9132.82, 9290.04]\n",
      "\n",
      "\n",
      "For Age Group  51-55\n",
      "CI using Boot Strap method with sample size = 100  : [8782.9, 10415.61]\n",
      "CI using Boot Strap method with sample size = 500  : [9156.7, 9890.72]\n",
      "CI using Boot Strap method with sample size = 1000  : [9263.7, 9799.68]\n",
      "CI using Boot Strap method with sample size = 5000  : [9427.04, 9650.24]\n",
      "CI using Boot Strap method with sample size = 7000  : [9440.12, 9628.38]\n",
      "CI using Boot Strap method with sample size = 10000  : [9447.68, 9612.72]\n",
      "\n",
      "\n",
      "For Age Group  55+\n",
      "CI using Boot Strap method with sample size = 100  : [8524.26, 10123.69]\n",
      "CI using Boot Strap method with sample size = 500  : [8966.68, 9698.19]\n",
      "CI using Boot Strap method with sample size = 1000  : [9086.59, 9600.99]\n",
      "CI using Boot Strap method with sample size = 5000  : [9219.18, 9450.05]\n",
      "CI using Boot Strap method with sample size = 7000  : [9234.98, 9448.58]\n",
      "CI using Boot Strap method with sample size = 10000  : [9260.32, 9422.16]\n",
      "\n",
      "\n",
      "For Age Group  0-17\n",
      "CI using Boot Strap method with sample size = 100  : [8101.7, 9766.77]\n",
      "CI using Boot Strap method with sample size = 500  : [8547.65, 9333.71]\n",
      "CI using Boot Strap method with sample size = 1000  : [8678.85, 9213.77]\n",
      "CI using Boot Strap method with sample size = 5000  : [8814.75, 9047.18]\n",
      "CI using Boot Strap method with sample size = 7000  : [8839.32, 9029.4]\n",
      "CI using Boot Strap method with sample size = 10000  : [8846.12, 9018.43]\n",
      "\n",
      "\n"
     ]
    }
   ],
   "source": [
    "# Method 2 : Bootstrapping Method \n",
    "age_groups = df['Age'].value_counts().index\n",
    "for i in age_groups:\n",
    "    data_ = df.loc[df['Age'] == i,'Purchase']\n",
    "    print(\"For Age Group \",i)\n",
    "    print(\"CI using Boot Strap method with sample size = 100  :\",\n",
    "      boot_strap_method(data = data_, sample_size = 100,confidence_intterval = 90) )\n",
    "    print(\"CI using Boot Strap method with sample size = 500  :\",\n",
    "      boot_strap_method(data = data_, sample_size = 500,confidence_intterval = 90) )\n",
    "    print(\"CI using Boot Strap method with sample size = 1000  :\",\n",
    "      boot_strap_method(data = data_, sample_size = 1000,confidence_intterval = 90) )\n",
    "    print(\"CI using Boot Strap method with sample size = 5000  :\",\n",
    "      boot_strap_method(data = data_, sample_size = 5000,confidence_intterval = 90) )\n",
    "    print(\"CI using Boot Strap method with sample size = 7000  :\",\n",
    "      boot_strap_method(data = data_, sample_size = 7000,confidence_intterval = 90) )\n",
    "    print(\"CI using Boot Strap method with sample size = 10000  :\",\n",
    "      boot_strap_method(data = data_, sample_size = 10000,confidence_intterval = 90) )\n",
    "    print(\"\\n\")"
   ]
  },
  {
   "cell_type": "markdown",
   "id": "64619fda",
   "metadata": {},
   "source": [
    "#### Observation :-\n",
    "- 90% CI for Age Group 26-35 Average Spends: (9235, 9270)\n",
    "- 90% CI for Age Group 36-45 Average Spends: (9306, 9356)\n",
    "- 90% CI for Age Group 18-25 Average Spends: (9143, 9195)\n",
    "- 90% CI for Age Group 46-50 Average Spends: (9170, 9246)\n",
    "- 90% CI for Age Group 51-55 Average Spends: (9492, 9577)\n",
    "- 90% CI for Age Group 55+ Average Spends:   (9280, 9392)\n",
    "- 90% CI for Age Group 0-17 Average Spends:  (8864, 9001)\n",
    "- 90% Confidence Interval are overlapping for Age Group 18-25 and 46-50 with average spend in range (9170,9195). And there is overlapping for Age group 36-45 and 55+ with average spend in range (9306,9356) .  "
   ]
  },
  {
   "cell_type": "markdown",
   "id": "2ae8e405",
   "metadata": {},
   "source": [
    "### 95% Confidence Interval for each Age Group average Spends"
   ]
  },
  {
   "cell_type": "code",
   "execution_count": 181,
   "id": "62043a93",
   "metadata": {},
   "outputs": [
    {
     "name": "stdout",
     "output_type": "stream",
     "text": [
      "95% CI for Age Group 26-35 Average Spends: (9231.733676400028, 9273.647589339747)\n",
      "95% CI for Age Group 36-45 Average Spends: (9301.669410965314, 9361.031978870433)\n",
      "95% CI for Age Group 18-25 Average Spends: (9138.407948753442, 9200.919263769136)\n",
      "95% CI for Age Group 46-50 Average Spends: (9163.085142648752, 9254.166252287903)\n",
      "95% CI for Age Group 51-55 Average Spends: (9483.991472776577, 9585.624589143894)\n",
      "95% CI for Age Group 55+ Average Spends: (9269.29883441773, 9403.262084481079)\n",
      "95% CI for Age Group 0-17 Average Spends: (8851.947970542686, 9014.981310347262)\n"
     ]
    }
   ],
   "source": [
    "# Method 1 : Using Formula Directly \n",
    "age_groups = df['Age'].value_counts().index\n",
    "for i in age_groups:\n",
    "    data = df.loc[df['Age'] == i,'Purchase']\n",
    "    print('95% CI for Age Group '+i+' Average Spends:',\n",
    "          norm.interval(alpha = 0.95, loc= data.mean() , scale = st.sem(data)) )"
   ]
  },
  {
   "cell_type": "code",
   "execution_count": 182,
   "id": "fe20c84d",
   "metadata": {},
   "outputs": [
    {
     "name": "stdout",
     "output_type": "stream",
     "text": [
      "For Age Group  26-35\n",
      "95% CI using Boot Strap method with sample size = 100  : [8312.67, 10203.85]\n",
      "95% CI using Boot Strap method with sample size = 500  : [8836.24, 9664.65]\n",
      "95% CI using Boot Strap method with sample size = 1000  : [8957.23, 9568.95]\n",
      "95% CI using Boot Strap method with sample size = 5000  : [9119.1, 9386.16]\n",
      "95% CI using Boot Strap method with sample size = 7000  : [9129.56, 9365.02]\n",
      "95% CI using Boot Strap method with sample size = 10000  : [9153.27, 9343.94]\n",
      "\n",
      "\n",
      "For Age Group  36-45\n",
      "95% CI using Boot Strap method with sample size = 100  : [8394.42, 10460.53]\n",
      "95% CI using Boot Strap method with sample size = 500  : [8916.26, 9759.87]\n",
      "95% CI using Boot Strap method with sample size = 1000  : [9009.98, 9663.09]\n",
      "95% CI using Boot Strap method with sample size = 5000  : [9192.63, 9476.25]\n",
      "95% CI using Boot Strap method with sample size = 7000  : [9206.71, 9451.37]\n",
      "95% CI using Boot Strap method with sample size = 10000  : [9221.36, 9424.0]\n",
      "\n",
      "\n",
      "For Age Group  18-25\n",
      "95% CI using Boot Strap method with sample size = 100  : [8275.85, 10195.76]\n",
      "95% CI using Boot Strap method with sample size = 500  : [8725.51, 9596.23]\n",
      "95% CI using Boot Strap method with sample size = 1000  : [8854.7, 9491.46]\n",
      "95% CI using Boot Strap method with sample size = 5000  : [9030.99, 9306.7]\n",
      "95% CI using Boot Strap method with sample size = 7000  : [9061.65, 9282.01]\n",
      "95% CI using Boot Strap method with sample size = 10000  : [9070.78, 9265.81]\n",
      "\n",
      "\n",
      "For Age Group  46-50\n",
      "95% CI using Boot Strap method with sample size = 100  : [8248.5, 10229.18]\n",
      "95% CI using Boot Strap method with sample size = 500  : [8765.45, 9660.2]\n",
      "95% CI using Boot Strap method with sample size = 1000  : [8877.24, 9502.74]\n",
      "95% CI using Boot Strap method with sample size = 5000  : [9076.76, 9342.09]\n",
      "95% CI using Boot Strap method with sample size = 7000  : [9087.51, 9336.17]\n",
      "95% CI using Boot Strap method with sample size = 10000  : [9114.61, 9302.8]\n",
      "\n",
      "\n",
      "For Age Group  51-55\n",
      "95% CI using Boot Strap method with sample size = 100  : [8555.15, 10560.85]\n",
      "95% CI using Boot Strap method with sample size = 500  : [9109.25, 9976.47]\n",
      "95% CI using Boot Strap method with sample size = 1000  : [9226.02, 9845.75]\n",
      "95% CI using Boot Strap method with sample size = 5000  : [9395.07, 9668.25]\n",
      "95% CI using Boot Strap method with sample size = 7000  : [9421.52, 9657.13]\n",
      "95% CI using Boot Strap method with sample size = 10000  : [9439.42, 9632.41]\n",
      "\n",
      "\n",
      "For Age Group  55+\n",
      "95% CI using Boot Strap method with sample size = 100  : [8352.84, 10384.82]\n",
      "95% CI using Boot Strap method with sample size = 500  : [8915.18, 9761.13]\n",
      "95% CI using Boot Strap method with sample size = 1000  : [9020.65, 9671.12]\n",
      "95% CI using Boot Strap method with sample size = 5000  : [9197.03, 9471.36]\n",
      "95% CI using Boot Strap method with sample size = 7000  : [9219.04, 9447.54]\n",
      "95% CI using Boot Strap method with sample size = 10000  : [9239.57, 9431.08]\n",
      "\n",
      "\n",
      "For Age Group  0-17\n",
      "95% CI using Boot Strap method with sample size = 100  : [7986.84, 9992.45]\n",
      "95% CI using Boot Strap method with sample size = 500  : [8501.11, 9342.37]\n",
      "95% CI using Boot Strap method with sample size = 1000  : [8624.87, 9245.62]\n",
      "95% CI using Boot Strap method with sample size = 5000  : [8797.44, 9081.88]\n",
      "95% CI using Boot Strap method with sample size = 7000  : [8812.73, 9054.65]\n",
      "95% CI using Boot Strap method with sample size = 10000  : [8829.81, 9024.96]\n",
      "\n",
      "\n"
     ]
    }
   ],
   "source": [
    "# Method 2 : Bootstrapping Method \n",
    "age_groups = df['Age'].value_counts().index\n",
    "for i in age_groups:\n",
    "    data_ = df.loc[df['Age'] == i,'Purchase']\n",
    "    print(\"For Age Group \",i)\n",
    "    print(\"95% CI using Boot Strap method with sample size = 100  :\",\n",
    "      boot_strap_method(data = data_, sample_size = 100,confidence_intterval = 95) )\n",
    "    print(\"95% CI using Boot Strap method with sample size = 500  :\",\n",
    "      boot_strap_method(data = data_, sample_size = 500,confidence_intterval = 95) )\n",
    "    print(\"95% CI using Boot Strap method with sample size = 1000  :\",\n",
    "      boot_strap_method(data = data_, sample_size = 1000,confidence_intterval = 95) )\n",
    "    print(\"95% CI using Boot Strap method with sample size = 5000  :\",\n",
    "      boot_strap_method(data = data_, sample_size = 5000,confidence_intterval = 95) )\n",
    "    print(\"95% CI using Boot Strap method with sample size = 7000  :\",\n",
    "      boot_strap_method(data = data_, sample_size = 7000,confidence_intterval = 95) )\n",
    "    print(\"95% CI using Boot Strap method with sample size = 10000  :\",\n",
    "      boot_strap_method(data = data_, sample_size = 10000,confidence_intterval = 95) )\n",
    "    print(\"\\n\")"
   ]
  },
  {
   "cell_type": "markdown",
   "id": "e2df0e76",
   "metadata": {},
   "source": [
    "#### Observation :-\n",
    "- 95% CI for Age Group 26-35 Average Spends: (9231, 9273)\n",
    "- 95% CI for Age Group 36-45 Average Spends: (9301, 9361)\n",
    "- 95% CI for Age Group 18-25 Average Spends: (9138, 9200)\n",
    "- 95% CI for Age Group 46-50 Average Spends: (9163, 9254)\n",
    "- 95% CI for Age Group 51-55 Average Spends: (9483, 9585)\n",
    "- 95% CI for Age Group 55+ Average Spends:   (9269, 9403)\n",
    "- 95% CI for Age Group 0-17 Average Spends:  (8851, 9014)\n",
    "- 95% Confidence Interval are overlapping for Age Group 18-25 and 46-50 with average spend in range (9163,9200) . Also overlapping for Age group 26-35 and 55+ with average spend in range (9269,9273) . And there is overlapping for Age group 36-45 and 55+ with average spend in range (9301,9361) .  "
   ]
  },
  {
   "cell_type": "markdown",
   "id": "bd0f8c68",
   "metadata": {},
   "source": [
    "### 99% Confidence Interval for each Age Group average Spends"
   ]
  },
  {
   "cell_type": "code",
   "execution_count": 183,
   "id": "822bdffc",
   "metadata": {},
   "outputs": [
    {
     "name": "stdout",
     "output_type": "stream",
     "text": [
      "99% CI for Age Group 26-35 Average Spends: (9225.148523415806, 9280.23274232397)\n",
      "99% CI for Age Group 36-45 Average Spends: (9292.342875603326, 9370.358514232421)\n",
      "99% CI for Age Group 18-25 Average Spends: (9128.586709366526, 9210.740503156052)\n",
      "99% CI for Age Group 46-50 Average Spends: (9148.775263210646, 9268.476131726009)\n",
      "99% CI for Age Group 51-55 Average Spends: (9468.02375292888, 9601.59230899159)\n",
      "99% CI for Age Group 55+ Average Spends: (9248.251682432667, 9424.309236466142)\n",
      "99% CI for Age Group 0-17 Average Spends: (8826.333576446717, 9040.59570444323)\n"
     ]
    }
   ],
   "source": [
    "# Method 1 : Using Formula Directly \n",
    "age_groups = df['Age'].value_counts().index\n",
    "for i in age_groups:\n",
    "    data = df.loc[df['Age'] == i,'Purchase']\n",
    "    print('99% CI for Age Group '+i+' Average Spends:',\n",
    "          norm.interval(alpha = 0.99, loc= data.mean() , scale = st.sem(data)) )"
   ]
  },
  {
   "cell_type": "code",
   "execution_count": 184,
   "id": "0a659144",
   "metadata": {},
   "outputs": [
    {
     "name": "stdout",
     "output_type": "stream",
     "text": [
      "For Age Group  26-35\n",
      "99% CI using Boot Strap method with sample size = 100  : [8003.2, 10455.78]\n",
      "99% CI using Boot Strap method with sample size = 500  : [8714.41, 9849.35]\n",
      "99% CI using Boot Strap method with sample size = 1000  : [8878.32, 9687.44]\n",
      "99% CI using Boot Strap method with sample size = 5000  : [9063.91, 9445.91]\n",
      "99% CI using Boot Strap method with sample size = 7000  : [9102.42, 9398.89]\n",
      "99% CI using Boot Strap method with sample size = 10000  : [9140.83, 9374.93]\n",
      "\n",
      "\n",
      "For Age Group  36-45\n",
      "99% CI using Boot Strap method with sample size = 100  : [8158.42, 10666.97]\n",
      "99% CI using Boot Strap method with sample size = 500  : [8740.64, 9881.79]\n",
      "99% CI using Boot Strap method with sample size = 1000  : [8934.45, 9727.89]\n",
      "99% CI using Boot Strap method with sample size = 5000  : [9152.12, 9524.08]\n",
      "99% CI using Boot Strap method with sample size = 7000  : [9171.74, 9484.26]\n",
      "99% CI using Boot Strap method with sample size = 10000  : [9194.08, 9459.79]\n",
      "\n",
      "\n",
      "For Age Group  18-25\n",
      "99% CI using Boot Strap method with sample size = 100  : [8034.49, 10555.83]\n",
      "99% CI using Boot Strap method with sample size = 500  : [8600.55, 9742.33]\n",
      "99% CI using Boot Strap method with sample size = 1000  : [8742.94, 9552.64]\n",
      "99% CI using Boot Strap method with sample size = 5000  : [8989.76, 9367.26]\n",
      "99% CI using Boot Strap method with sample size = 7000  : [9013.06, 9315.97]\n",
      "99% CI using Boot Strap method with sample size = 10000  : [9033.76, 9302.7]\n",
      "\n",
      "\n",
      "For Age Group  46-50\n",
      "99% CI using Boot Strap method with sample size = 100  : [7896.16, 10537.48]\n",
      "99% CI using Boot Strap method with sample size = 500  : [8633.62, 9728.75]\n",
      "99% CI using Boot Strap method with sample size = 1000  : [8832.78, 9633.06]\n",
      "99% CI using Boot Strap method with sample size = 5000  : [9043.41, 9384.88]\n",
      "99% CI using Boot Strap method with sample size = 7000  : [9074.13, 9357.45]\n",
      "99% CI using Boot Strap method with sample size = 10000  : [9083.04, 9356.01]\n",
      "\n",
      "\n",
      "For Age Group  51-55\n",
      "99% CI using Boot Strap method with sample size = 100  : [8349.96, 10924.51]\n",
      "99% CI using Boot Strap method with sample size = 500  : [8935.38, 10139.49]\n",
      "99% CI using Boot Strap method with sample size = 1000  : [9098.16, 9917.5]\n",
      "99% CI using Boot Strap method with sample size = 5000  : [9362.97, 9734.96]\n",
      "99% CI using Boot Strap method with sample size = 7000  : [9383.88, 9693.19]\n",
      "99% CI using Boot Strap method with sample size = 10000  : [9418.27, 9659.12]\n",
      "\n",
      "\n",
      "For Age Group  55+\n",
      "99% CI using Boot Strap method with sample size = 100  : [7969.65, 10558.26]\n",
      "99% CI using Boot Strap method with sample size = 500  : [8792.55, 9888.16]\n",
      "99% CI using Boot Strap method with sample size = 1000  : [8961.37, 9746.86]\n",
      "99% CI using Boot Strap method with sample size = 5000  : [9147.61, 9529.94]\n",
      "99% CI using Boot Strap method with sample size = 7000  : [9191.38, 9477.89]\n",
      "99% CI using Boot Strap method with sample size = 10000  : [9204.17, 9464.53]\n",
      "\n",
      "\n",
      "For Age Group  0-17\n",
      "99% CI using Boot Strap method with sample size = 100  : [7525.34, 10224.24]\n",
      "99% CI using Boot Strap method with sample size = 500  : [8366.3, 9537.12]\n",
      "99% CI using Boot Strap method with sample size = 1000  : [8535.72, 9352.51]\n",
      "99% CI using Boot Strap method with sample size = 5000  : [8764.25, 9119.21]\n",
      "99% CI using Boot Strap method with sample size = 7000  : [8784.96, 9090.41]\n",
      "99% CI using Boot Strap method with sample size = 10000  : [8811.87, 9077.6]\n",
      "\n",
      "\n"
     ]
    }
   ],
   "source": [
    "# Method 2 : Bootstrapping Method \n",
    "age_groups = df['Age'].value_counts().index\n",
    "for i in age_groups:\n",
    "    data_ = df.loc[df['Age'] == i,'Purchase']\n",
    "    print(\"For Age Group \",i)\n",
    "    print(\"99% CI using Boot Strap method with sample size = 100  :\",\n",
    "      boot_strap_method(data = data_, sample_size = 100,confidence_intterval = 99) )\n",
    "    print(\"99% CI using Boot Strap method with sample size = 500  :\",\n",
    "      boot_strap_method(data = data_, sample_size = 500,confidence_intterval = 99) )\n",
    "    print(\"99% CI using Boot Strap method with sample size = 1000  :\",\n",
    "      boot_strap_method(data = data_, sample_size = 1000,confidence_intterval = 99) )\n",
    "    print(\"99% CI using Boot Strap method with sample size = 5000  :\",\n",
    "      boot_strap_method(data = data_, sample_size = 5000,confidence_intterval = 99) )\n",
    "    print(\"99% CI using Boot Strap method with sample size = 7000  :\",\n",
    "      boot_strap_method(data = data_, sample_size = 7000,confidence_intterval = 99) )\n",
    "    print(\"99% CI using Boot Strap method with sample size = 10000  :\",\n",
    "      boot_strap_method(data = data_, sample_size = 10000,confidence_intterval = 99) )\n",
    "    print(\"\\n\")"
   ]
  },
  {
   "cell_type": "markdown",
   "id": "44f90987",
   "metadata": {},
   "source": [
    "#### Observation :-\n",
    "- 99% CI for Age Group 26-35 Average Spends: (9225, 9280)\n",
    "- 99% CI for Age Group 36-45 Average Spends: (9292, 9370)\n",
    "- 99% CI for Age Group 18-25 Average Spends: (9128, 9210)\n",
    "- 99% CI for Age Group 46-50 Average Spends: (9148, 9268)\n",
    "- 99% CI for Age Group 51-55 Average Spends: (9468, 9601)\n",
    "- 99% CI for Age Group 55+ Average Spends:   (9248, 9424)\n",
    "- 99% CI for Age Group 0-17 Average Spends:  (8826, 9040)\n",
    "- 99% Confidence Interval are overlapping for Age Group 18-25 and 46-50 with average spend in range (9148,9210) . There is overlapping for Age group 26-35 and 55+ with average spend in range (9248,9280) . And there is overlapping for Age group 36-45 and 55+ with average spend in range (9292,9370) . "
   ]
  },
  {
   "cell_type": "markdown",
   "id": "e8b63544",
   "metadata": {},
   "source": [
    "### Histogram Plot : For Avg. Amount spend in Age group Category"
   ]
  },
  {
   "cell_type": "code",
   "execution_count": 185,
   "id": "e624940f",
   "metadata": {},
   "outputs": [
    {
     "data": {
      "image/png": "[encoded data removed]",
      "text/plain": [
       "<Figure size 1440x1080 with 8 Axes>"
      ]
     },
     "metadata": {
      "needs_background": "light"
     },
     "output_type": "display_data"
    }
   ],
   "source": [
    "def boot_strap_method2(data, sample_size,confidence_intterval):\n",
    "    ans=[]\n",
    "    for reps in range(sample_size):\n",
    "        bootstrapped_samples = np.random.choice(data, size=data.shape[0])\n",
    "        bootstrapped_mean =  np.mean(bootstrapped_samples)\n",
    "        ans.append(bootstrapped_mean)\n",
    "    return ans\n",
    "    \n",
    "\n",
    "fig, axis = plt.subplots(nrows=4, ncols=2, figsize=(20, 15))\n",
    "# 99% CI \n",
    "\n",
    "sns.histplot(boot_strap_method2(data = df.loc[df['Age'] == '26-35','Purchase'],\n",
    "                                sample_size = 5000,confidence_intterval = 99),ax=axis[0,0])\n",
    "axis[0,0].set_title(\"Age :26-35\")\n",
    "\n",
    "sns.histplot(boot_strap_method2(data = df.loc[df['Age'] == '36-45','Purchase'],\n",
    "                                sample_size = 5000,confidence_intterval = 99),ax=axis[0,1])\n",
    "axis[0,1].set_title(\"Age :36-45\")\n",
    "\n",
    "sns.histplot(boot_strap_method2(data = df.loc[df['Age'] == '18-25','Purchase'],\n",
    "                                sample_size = 5000,confidence_intterval = 99),ax=axis[1,0])\n",
    "axis[1,0].set_title(\"Age :18-25\")\n",
    "\n",
    "sns.histplot(boot_strap_method2(data = df.loc[df['Age'] == '46-50','Purchase'],\n",
    "                                sample_size = 5000,confidence_intterval = 99),ax=axis[1,1])\n",
    "axis[1,1].set_title(\"Age :46-50\")\n",
    "\n",
    "sns.histplot(boot_strap_method2(data = df.loc[df['Age'] == '51-55','Purchase'],\n",
    "                                sample_size = 5000,confidence_intterval = 99),ax=axis[2,0])\n",
    "axis[2,0].set_title(\"Age :51-55\")\n",
    "\n",
    "sns.histplot(boot_strap_method2(data = df.loc[df['Age'] == '55+','Purchase'],\n",
    "                                sample_size = 5000,confidence_intterval = 99),ax=axis[2,1])\n",
    "axis[2,1].set_title(\"Age :55+\")\n",
    "\n",
    "sns.histplot(boot_strap_method2(data = df.loc[df['Age'] == '0-17','Purchase'],\n",
    "                                sample_size = 5000,confidence_intterval = 99),ax=axis[3,0])\n",
    "axis[3,0].set_title(\"Age :0-17\")\n",
    "\n",
    "plt.show()"
   ]
  },
  {
   "cell_type": "code",
   "execution_count": 186,
   "id": "c7249727",
   "metadata": {},
   "outputs": [
    {
     "data": {
      "image/png": "[encoded data removed]",
      "text/plain": [
       "<Figure size 1440x1080 with 4 Axes>"
      ]
     },
     "metadata": {
      "needs_background": "light"
     },
     "output_type": "display_data"
    }
   ],
   "source": [
    "def boot_strap_method2(data, sample_size,confidence_intterval):\n",
    "    ans=[]\n",
    "    for reps in range(sample_size):\n",
    "        bootstrapped_samples = np.random.choice(data, size=data.shape[0])\n",
    "        bootstrapped_mean =  np.mean(bootstrapped_samples)\n",
    "        ans.append(bootstrapped_mean)\n",
    "    return ans\n",
    "    \n",
    "\n",
    "fig, axis = plt.subplots(nrows=2, ncols=2, figsize=(20, 15))\n",
    "\n",
    "# 99% CI \n",
    "sns.histplot(boot_strap_method2(data = df.loc[df['Gender'] == 'M','Purchase'],\n",
    "                                sample_size = 5000,confidence_intterval = 99),ax=axis[0,0])\n",
    "axis[0,0].set_title(\"Male\")\n",
    "\n",
    "sns.histplot(boot_strap_method2(data = df.loc[df['Gender'] == 'F','Purchase'],\n",
    "                                sample_size = 5000,confidence_intterval = 99),ax=axis[0,1])\n",
    "axis[0,1].set_title(\"Female\")\n",
    "\n",
    "\n",
    "plt.show()"
   ]
  },
  {
   "cell_type": "markdown",
   "id": "15e7deaa",
   "metadata": {},
   "source": [
    "### Plot Univariate and Bivariate plots"
   ]
  },
  {
   "cell_type": "code",
   "execution_count": 187,
   "id": "1b5846e6",
   "metadata": {},
   "outputs": [
    {
     "data": {
      "image/png": "[encoded data removed]",
      "text/plain": [
       "<Figure size 864x432 with 1 Axes>"
      ]
     },
     "metadata": {
      "needs_background": "light"
     },
     "output_type": "display_data"
    }
   ],
   "source": [
    "plt.figure(figsize=(12,6))\n",
    "\n",
    "ax= sns.barplot(data = df , x='Age' ,y='Purchase')\n",
    "\n",
    "for i in ax.containers:\n",
    "    ax.bar_label(i)\n",
    "    \n",
    "plt.xlabel('Age Groups')\n",
    "\n",
    "plt.title('Bar Plot of Age vs Avg Purchase ')\n",
    "plt.show()"
   ]
  },
  {
   "cell_type": "code",
   "execution_count": 188,
   "id": "8ae41e24",
   "metadata": {},
   "outputs": [
    {
     "data": {
      "image/png": "[encoded data removed]",
      "text/plain": [
       "<Figure size 1296x1080 with 1 Axes>"
      ]
     },
     "metadata": {
      "needs_background": "light"
     },
     "output_type": "display_data"
    }
   ],
   "source": [
    "plt.figure(figsize=(18,15))\n",
    "\n",
    "ax= sns.countplot(data = df , x='Product_Category', hue='Gender' )\n",
    "\n",
    "for i in ax.containers:\n",
    "    ax.bar_label(i)\n",
    "    \n",
    "plt.xlabel('Product Category')\n",
    "\n",
    "plt.title('Count Plot of Product Category ')\n",
    "plt.show()"
   ]
  },
  {
   "cell_type": "code",
   "execution_count": 189,
   "id": "a116421c",
   "metadata": {},
   "outputs": [
    {
     "data": {
      "image/png": "[encoded data removed]",
      "text/plain": [
       "<Figure size 864x432 with 1 Axes>"
      ]
     },
     "metadata": {
      "needs_background": "light"
     },
     "output_type": "display_data"
    }
   ],
   "source": [
    "plt.figure(figsize=(12,6))\n",
    "\n",
    "ax= sns.countplot(data = df , x='City_Category', hue='Gender' )\n",
    "\n",
    "for i in ax.containers:\n",
    "    ax.bar_label(i)\n",
    "    \n",
    "plt.xlabel('City Category')\n",
    "\n",
    "plt.title('Count Plot of City Category ')\n",
    "plt.show()"
   ]
  },
  {
   "cell_type": "code",
   "execution_count": 190,
   "id": "d26b6f08",
   "metadata": {},
   "outputs": [
    {
     "data": {
      "image/png": "[encoded data removed]",
      "text/plain": [
       "<Figure size 720x360 with 1 Axes>"
      ]
     },
     "metadata": {
      "needs_background": "light"
     },
     "output_type": "display_data"
    }
   ],
   "source": [
    "plt.figure(figsize=(10,5))\n",
    "\n",
    "ax= sns.barplot(data = df , x='Marital_Status' ,y='Purchase')\n",
    "\n",
    "for i in ax.containers:\n",
    "    ax.bar_label(i)\n",
    "    \n",
    "plt.xlabel('Marital_Status')\n",
    "\n",
    "plt.title('Bar Plot of Mrital_Status vs Avg Purchase ')\n",
    "plt.show()"
   ]
  },
  {
   "cell_type": "code",
   "execution_count": 191,
   "id": "52153b6c",
   "metadata": {},
   "outputs": [
    {
     "data": {
      "image/png": "[encoded data removed]",
      "text/plain": [
       "<Figure size 1296x504 with 1 Axes>"
      ]
     },
     "metadata": {
      "needs_background": "light"
     },
     "output_type": "display_data"
    }
   ],
   "source": [
    "plt.figure(figsize=(18,7))\n",
    "\n",
    "ax= sns.barplot(data = df , x='Occupation' ,y='Purchase')\n",
    "\n",
    "for i in ax.containers:\n",
    "    ax.bar_label(i)\n",
    "    \n",
    "plt.xlabel('Occupation (Masked)')\n",
    "\n",
    "plt.title('Bar Plot of Occupation vs Avg Purchase ')\n",
    "plt.show()"
   ]
  },
  {
   "cell_type": "code",
   "execution_count": null,
   "id": "1c36890d",
   "metadata": {},
   "outputs": [],
   "source": []
  },
  {
   "cell_type": "markdown",
   "id": "8ac90824",
   "metadata": {},
   "source": [
    "## Insights :- \n",
    "\n",
    "- There are no null values all columns.\n",
    "- There are 2677 Total Outliers in Purchase Column.\n",
    "- Confidence interval is the interval, we calculated using the sample data, within which the population parameter will lie .Below are the 90% CI , 95% CI and 99% CI values calulated for different Gender , Marital Status and Age Groups \n",
    "\n",
    "### Confidence Interval for Male / Female Average Amount Spend\n",
    "- 90% CI for Male Average Spends = [9424 , 9450]  , 90% CI for Female Average Spends= [8713 , 8756] \n",
    "- 95% CI for Male Average Spends = [9422 , 9453]  , 95% CI for Female Average Spends= [8709 , 8760]\n",
    "- 99% CI for Male Average Spends = [9417 , 9458]  , 99% CI for Female Average Spends= [8701 , 8768] \n",
    "- As we go from 90% CI to 95% CI and to 99% CI we see that the range / width of values keep on increasing as we increace the Percentage of Confidence Interval \n",
    "- Confidence Interval of Average Male and Female spends are NOT OVERLAPPING with each other in 90% , 95% and 99% CI.\n",
    "- From  90% / 95% / 99% CI we can see the average amount spend by Male is large compared to females. \n",
    "- 90% CI for Male Average Spend Amount means that there is 90% chance that the confidence interval [9424 , 9450] contains population mean amount spend By Male customer.\n",
    "\n",
    "\n",
    "### Confidence Interval for Single / Partnered Marital Status Average Amount Spend\n",
    "- 90% CI for Single Status Average Spends = [9252 , 9281] , 90% CI for Partnered Average Spends= [9244, 9278] \n",
    "- 95% CI for Single Status Average Spends = [9249 , 9283] , 95% CI for Partnered Average Spends= [9240, 9282] \n",
    "- 99% CI for Single Status Average Spends = [9243 , 9288] , 99% CI for Partnered Average Spends= [9234, 9289] \n",
    "- As we go from 90% CI to 95% CI and to 99% CI we see that the width of CI  keep on increasing as we increace the Percentage of Confidence Interval . \n",
    "- Confidence Interval of Average spends of Single and Partnered Marital Status Customer are overlapping with each other in 90% , 95% and 99% CI.\n",
    "- 90% Confidence intervals of average spends of Single and Partnered marital status people ARE OVERLAPPING in average spends range of (9252,9278)\n",
    "- 95% Confidence intervals of average spends of Single and Partnered marital status customers ARE OVERLAPPING in average spends range of (9249,9282)\n",
    "- 99% Confidence intervals of average spends of Single and Partnered marital status customers ARE OVERLAPPING in average spends range of (9243,9288)\n",
    "- From  90% / 95% / 99% CI we can see the average amount spend by Single Marital Status customer is almost same to Partnered Marital Status Customer.\n",
    "\n",
    "### Confidence Interval for each age group Average Amount Spend\n",
    "- 90% CI for Age Group 26-35 Average Spends: (9235, 9270)\n",
    "- 90% CI for Age Group 36-45 Average Spends: (9306, 9356)\n",
    "- 90% CI for Age Group 18-25 Average Spends: (9143, 9195)\n",
    "- 90% CI for Age Group 46-50 Average Spends: (9170, 9246)\n",
    "- 90% CI for Age Group 51-55 Average Spends: (9492, 9577)\n",
    "- 90% CI for Age Group 55+ Average Spends:   (9280, 9392)\n",
    "- 90% CI for Age Group 0-17 Average Spends:  (8864, 9001)\n",
    "- 90% Confidence Interval ARE OVERLAPPING for Age Group 18-25 and 46-50 with average spend in range (9170,9195). And there is overlapping for Age group 36-45 and 55+ with average spend in range (9306,9356) . \n",
    "\n",
    "\n",
    "- 95% CI for Age Group 26-35 Average Spends: (9231, 9273)\n",
    "- 95% CI for Age Group 36-45 Average Spends: (9301, 9361)\n",
    "- 95% CI for Age Group 18-25 Average Spends: (9138, 9200)\n",
    "- 95% CI for Age Group 46-50 Average Spends: (9163, 9254)\n",
    "- 95% CI for Age Group 51-55 Average Spends: (9483, 9585)\n",
    "- 95% CI for Age Group 55+ Average Spends:   (9269, 9403)\n",
    "- 95% CI for Age Group 0-17 Average Spends:  (8851, 9014)\n",
    "- 95% Confidence Interval ARE OVERLAPPING for Age Group 18-25 and 46-50 with average spend in range (9163,9200) . Also overlapping for Age group 26-35 and 55+ with average spend in range (9269,9273) . And there is overlapping for Age group 36-45 and 55+ with average spend in range (9301,9361) . \n",
    "\n",
    "\n",
    "- 99% CI for Age Group 26-35 Average Spends: (9225, 9280)\n",
    "- 99% CI for Age Group 36-45 Average Spends: (9292, 9370)\n",
    "- 99% CI for Age Group 18-25 Average Spends: (9128, 9210)\n",
    "- 99% CI for Age Group 46-50 Average Spends: (9148, 9268)\n",
    "- 99% CI for Age Group 51-55 Average Spends: (9468, 9601)\n",
    "- 99% CI for Age Group 55+ Average Spends:   (9248, 9424)\n",
    "- 99% CI for Age Group 0-17 Average Spends:  (8826, 9040)\n",
    "- 99% Confidence Interval ARE OVERLAPPING for Age Group 18-25 and 46-50 with average spend in range (9148,9210) . There is overlapping for Age group 26-35 and 55+ with average spend in range (9248,9280) . And there is overlapping for Age group 36-45 and 55+ with average spend in range (9292,9370) . \n",
    "\n",
    "- As we go from 90% CI to 95% CI and to 99% CI we see that the width of CI  keep on increasing as we increace the Percentage of Confidence Interval . \n",
    "- Confidence Interval of Average spends of each Age Group Customer are overlapping with each other in 90% , 95% and 99% CI for few age groups.\n",
    "- From  90% / 95% / 99% CI we can see the average amount spend by 51-55 Age group customer is highest and the average amount spend by 0-17 Age group customer is lowest ."
   ]
  },
  {
   "cell_type": "markdown",
   "id": "79e5987e",
   "metadata": {},
   "source": [
    "## Recommendations :- \n",
    " \n",
    "- Confidence Interval of Average Male and Female spends are NOT OVERLAPPING with each other in 90% , 95% and 99% CI. So we can say that the male population average spends is more than female population average spends this can be inferred as the 90% / 95% /99% CI  ( Eg. Male has higher lower and upper paramters in 99% CI as compared to female 99% CI ) . So Company needs to Target more of Female audience to reduce the gap between Male and Femal avg. amount spend.  Note : Confidence interval is the interval, we calculated using the sample data, within which the population parameter will lie .\n",
    "\n",
    "- Company should focus on retaining the male customers. More of female focused products should be introduced and special discounts - like clearance sale on existing female products can be done to increase the average amount spend by female.\n",
    "\n",
    "- From Confidence Interval for Avg. amount spend by each age group we can see Age Group 51-55 has the highest avg. spend amount and the Age Group 0-17 has least avg. spend amount that is expected as cusotmer of age gorup 0-17 are considered children /minor  and generally thier parents will buy products for them. The difference in avg. spend amount between Age group 51-55 and other age groups is not much , so this is a plus point showing company has wide variety of products catering to needs of all major age groups.\n",
    "\n",
    "- 99% Confidence Interval ARE OVERLAPPING for Age Group 18-25 and 46-50 for average spend amount . There is overlapping for Age group 26-35 and 55+ for average spend amount . And there is overlapping for Age group 36-45 and 55+ for average spendamount. So we cannot compare these groups with each other to check if avg. amount spend is higher or lower compared to other.\n",
    "\n",
    "- Company should target more of younger Age Groups Like 18-25 , 26-35 and 36-45 . New Products in field of technology can be introduced . Cashbacks and special discounts like student discount can be given to 18-25 Age Group People.\n",
    "\n",
    "- 90% and 95% and 99% Confidence intervals of average spends of Single and Partnered marital status people ARE OVERLAPPING so we cannoty compare Single and Partneres Marital Status customer  with each other for highest or lowest average spend amount .\n",
    "\n",
    "- From Count Plot of City Category we can see that Count of orders purchased by Female in All cities A, B, C are almost 30% to that of Male. So city wise campaign and adviretisement can be done specially for Female Gender to encourage more females to buy products from Walmart . \n",
    "\n",
    "- Seeing the Count Plot of Product Category we can see that Product Category 1 , 5 and 8 are most ordered product category among males and females . And product category 7, 9,10,12,13,14,15,16,17,18,19,20 are least ordered categories.  These least order product categories must be either changed with new product categories or latest products in these categories must be introduced .\n",
    "\n",
    "- Company can introduce programs such as loyalty program where in they give cashback to thier most frequent customers. \n",
    "\n"
   ]
  },
  {
   "cell_type": "code",
   "execution_count": null,
   "id": "f8453684",
   "metadata": {},
   "outputs": [],
   "source": []
  }
 ],
 "metadata": {
  "kernelspec": {
   "display_name": "Python 3 (ipykernel)",
   "language": "python",
   "name": "python3"
  },
  "language_info": {
   "codemirror_mode": {
    "name": "ipython",
    "version": 3
   },
   "file_extension": ".py",
   "mimetype": "text/x-python",
   "name": "python",
   "nbconvert_exporter": "python",
   "pygments_lexer": "ipython3",
   "version": "3.9.7"
  }
 },
 "nbformat": 4,
 "nbformat_minor": 5
}
